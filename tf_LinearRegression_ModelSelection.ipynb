{
 "cells": [
  {
   "cell_type": "code",
   "execution_count": 2,
   "metadata": {
    "collapsed": false
   },
   "outputs": [
    {
     "name": "stderr",
     "output_type": "stream",
     "text": [
      "/Library/Frameworks/Python.framework/Versions/2.7/lib/python2.7/site-packages/sklearn/cross_validation.py:44: DeprecationWarning: This module was deprecated in version 0.18 in favor of the model_selection module into which all the refactored classes and functions are moved. Also note that the interface of the new CV iterators are different from that of this module. This module will be removed in 0.20.\n",
      "  \"This module will be removed in 0.20.\", DeprecationWarning)\n"
     ]
    }
   ],
   "source": [
    "%matplotlib inline\n",
    "\n",
    "import numpy as np\n",
    "import tensorflow as tf\n",
    "import matplotlib.pyplot as plt\n",
    "from sklearn.preprocessing import PolynomialFeatures\n",
    "from sklearn.cross_validation import train_test_split"
   ]
  },
  {
   "cell_type": "code",
   "execution_count": 3,
   "metadata": {
    "collapsed": false
   },
   "outputs": [],
   "source": [
    "############################\n",
    "# generate data\n",
    "############################\n",
    "data_x = np.random.uniform(low=-10,high=10,size=[100,1])\n",
    "data_y = (data_x**3) + 4*(data_x**2) - 3*data_x + 10 + np.random.normal(scale=100,size=[len(data_x),1])\n",
    "X_train,X_test,y_train,y_test = train_test_split(data_x,data_y,test_size=0.9)\n",
    "X_val,X_test,y_val,y_test = train_test_split(X_test,y_test,test_size=0.9)"
   ]
  },
  {
   "cell_type": "code",
   "execution_count": 4,
   "metadata": {
    "collapsed": false
   },
   "outputs": [
    {
     "name": "stdout",
     "output_type": "stream",
     "text": [
      "degree :  1\n",
      "train cost :  161.08\n",
      "validation cost :  128.139\n",
      "test cost :  196.208\n",
      "degree :  2\n",
      "train cost :  155.638\n",
      "validation cost :  135.093\n",
      "test cost :  205.943\n",
      "degree :  3\n",
      "train cost :  59.3797\n",
      "validation cost :  81.9329\n",
      "test cost :  96.7909\n",
      "degree :  4\n",
      "train cost :  59.2618\n",
      "validation cost :  101.08\n",
      "test cost :  117.817\n",
      "\n",
      "\n",
      "best_dgree :  3\n",
      "best_validation_cost :  81.9329\n",
      "best_test_cost :  96.7909\n"
     ]
    },
    {
     "data": {
      "text/plain": [
       "[<matplotlib.lines.Line2D at 0x110e15e90>]"
      ]
     },
     "execution_count": 4,
     "metadata": {},
     "output_type": "execute_result"
    },
    {
     "data": {
      "image/png": "[encoded data removed]",
      "text/plain": [
       "<matplotlib.figure.Figure at 0x110a24f10>"
      ]
     },
     "metadata": {},
     "output_type": "display_data"
    }
   ],
   "source": [
    "ds = [ 1,2,3,4 ]\n",
    "best_dgree = 0\n",
    "best_validation_cost = np.inf\n",
    "best_test_cost = 0\n",
    "\n",
    "for d in ds:        \n",
    "    encoding_feature = PolynomialFeatures(degree=d)\n",
    "    encoding_feature.fit(X_train)\n",
    "    encoded_x = encoding_feature.transform(X_train)[:,1:]\n",
    "    encoded_validation_x = encoding_feature.transform(X_val)[:,1:]\n",
    "    encoded_test_x = encoding_feature.transform(X_test)[:,1:]\n",
    "    _x = np.linspace(-10,10)\n",
    "    \n",
    "    tf.reset_default_graph()\n",
    "    x = tf.placeholder(shape=[None,d],dtype=tf.float32,name='x')\n",
    "    y = tf.placeholder(shape=[None,1],dtype=tf.float32,name='y')\n",
    "    w = tf.Variable(np.random.normal(size=[d,1]),dtype=tf.float32,name='w')\n",
    "    b = tf.Variable(np.zeros([1,1]),dtype=tf.float32,name='b')\n",
    "    cost = tf.reduce_mean(tf.abs(y - (tf.matmul(x,w) + b)))\n",
    "    grad = tf.train.AdamOptimizer(0.05).minimize(cost)\n",
    "    init = tf.global_variables_initializer()\n",
    "    with tf.Session() as sess:\n",
    "        sess.run(init)\n",
    "        for i in range(1000):\n",
    "            sess.run([cost,grad],feed_dict={x: encoded_x, y: y_train})\n",
    "        weight = sess.run(w)\n",
    "        bias = sess.run(b)\n",
    "        train_cost = sess.run(cost,feed_dict={x: encoded_x, y: y_train})\n",
    "        validation_cost = sess.run(cost,feed_dict={x: encoded_validation_x, y: y_val})\n",
    "        test_cost = sess.run(cost,feed_dict={x: encoded_test_x, y: y_test})\n",
    "        print 'degree : ', d\n",
    "        print 'train cost : ' , train_cost\n",
    "        print 'validation cost : ' , validation_cost\n",
    "        print 'test cost : ' , test_cost\n",
    "        if best_validation_cost > validation_cost:\n",
    "            best_dgree = d\n",
    "            best_validation_cost = validation_cost\n",
    "            best_test_cost = test_cost\n",
    "        _y = np.matmul(encoding_feature.transform(_x.reshape(-1,1))[:,1:],weight) + bias\n",
    "        plt.plot(_x,_y)\n",
    "        \n",
    "print '\\n\\nbest_dgree : ',best_dgree\n",
    "print 'best_validation_cost : ',best_validation_cost\n",
    "print 'best_test_cost : ',best_test_cost\n",
    "\n",
    "plt.plot(X_train,y_train,'bo')    \n",
    "plt.plot(data_x,data_y,'r+')\n"
   ]
  }
 ],
 "metadata": {
  "kernelspec": {
   "display_name": "Python 2",
   "language": "python",
   "name": "python2"
  },
  "language_info": {
   "codemirror_mode": {
    "name": "ipython",
    "version": 2
   },
   "file_extension": ".py",
   "mimetype": "text/x-python",
   "name": "python",
   "nbconvert_exporter": "python",
   "pygments_lexer": "ipython2",
   "version": "2.7.11"
  }
 },
 "nbformat": 4,
 "nbformat_minor": 0
}
