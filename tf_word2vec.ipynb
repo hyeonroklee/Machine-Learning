{
 "cells": [
  {
   "cell_type": "code",
   "execution_count": 1,
   "metadata": {
    "collapsed": false
   },
   "outputs": [],
   "source": [
    "%matplotlib inline\n",
    "\n",
    "import numpy as np\n",
    "import tensorflow as tf\n",
    "import wikipedia\n",
    "from konlpy.tag import Kkma\n",
    "from konlpy.utils import pprint\n",
    "import matplotlib\n",
    "import matplotlib.pyplot as plt\n",
    "import matplotlib.pylab as plb\n",
    "\n",
    "from sklearn.decomposition import PCA\n",
    "\n",
    "matplotlib.rc('font', family='AppleGothic')"
   ]
  },
  {
   "cell_type": "code",
   "execution_count": 2,
   "metadata": {
    "collapsed": true
   },
   "outputs": [],
   "source": [
    "key_word = u'서울'\n",
    "wikipedia.set_lang('ko')\n",
    "p = wikipedia.page(key_word)\n",
    "sentences = p.content.split('.')\n",
    "kkma = Kkma()\n",
    "vocas = {}\n",
    "for s in sentences:\n",
    "    for word,t in kkma.pos(s):\n",
    "        if t == 'NNG':\n",
    "            if not vocas.has_key(word):\n",
    "                vocas[word] = len(vocas)\n",
    "r_vocas = dict(zip(vocas.values(), vocas.keys()))"
   ]
  },
  {
   "cell_type": "code",
   "execution_count": 3,
   "metadata": {
    "collapsed": false
   },
   "outputs": [],
   "source": [
    "vocas_map = np.identity(len(vocas))\n",
    "dataset = []\n",
    "for s in sentences:\n",
    "    nouns = []\n",
    "    for word,t in kkma.pos(s):\n",
    "        if t == 'NNG':\n",
    "            nouns.append(word)\n",
    "    for i in range(len(nouns)):\n",
    "        if i-1 >= 0:\n",
    "            j1 = vocas[nouns[i]]\n",
    "            j2 = vocas[nouns[i-1]]\n",
    "            dataset.append(np.array([ vocas_map[j1:j1+1][0], vocas_map[j2:j2+1][0]]))\n",
    "        if i+1 < len(nouns):\n",
    "            j1 = vocas[nouns[i]]\n",
    "            j2 = vocas[nouns[i+1]]\n",
    "            dataset.append(np.array([ vocas_map[j1:j1+1][0], vocas_map[j2:j2+1][0]]))\n",
    "dataset = np.array(dataset)\n",
    "np.random.shuffle(dataset)\n",
    "\n",
    "train_x = []\n",
    "train_y = []\n",
    "for x,y in dataset:\n",
    "    train_x.append(x)\n",
    "    train_y.append(y)\n",
    "train_x = np.array(train_x).reshape(-1,len(vocas))\n",
    "train_y = np.array(train_y).reshape(-1,len(vocas))"
   ]
  },
  {
   "cell_type": "code",
   "execution_count": 4,
   "metadata": {
    "collapsed": false
   },
   "outputs": [],
   "source": [
    "tf.reset_default_graph()\n",
    "voca_size = len(vocas)\n",
    "hidden_size = 100\n",
    "x = tf.placeholder(dtype=tf.float32,shape=[None,voca_size])\n",
    "y = tf.placeholder(dtype=tf.float32,shape=[None,voca_size])\n",
    "w1 = tf.Variable(tf.random_normal(shape=[voca_size,hidden_size]))\n",
    "b1 = tf.Variable(tf.zeros(shape=[1,hidden_size]))\n",
    "w2 = tf.Variable(tf.random_normal(shape=[hidden_size,voca_size]))\n",
    "b2 = tf.Variable(tf.zeros(shape=[1,voca_size]))\n",
    "layer1 = tf.nn.relu(tf.matmul(x,w1) + b1)\n",
    "layer2 = tf.nn.softmax(tf.matmul(layer1,w2) + b2)\n",
    "\n",
    "cost = tf.reduce_mean(tf.square(-y*tf.log(layer2)))\n",
    "grad = tf.train.AdamOptimizer(0.05).minimize(cost)"
   ]
  },
  {
   "cell_type": "code",
   "execution_count": 5,
   "metadata": {
    "collapsed": false
   },
   "outputs": [
    {
     "name": "stdout",
     "output_type": "stream",
     "text": [
      "0.410486\n",
      "0.0309316\n",
      "0.0114082\n",
      "0.0074799\n",
      "0.00578331\n",
      "0.0048773\n",
      "0.00433614\n",
      "0.0039945\n",
      "0.0037683\n",
      "0.00361427\n"
     ]
    },
    {
     "data": {
      "image/png": "[encoded data removed]",
      "text/plain": [
       "<matplotlib.figure.Figure at 0x11ac50090>"
      ]
     },
     "metadata": {},
     "output_type": "display_data"
    }
   ],
   "source": [
    "init = tf.global_variables_initializer()\n",
    "with tf.Session() as sess:\n",
    "    sess.run(init)\n",
    "    for i in range(100):\n",
    "        c,_ = sess.run([cost,grad],{x:train_x,y:train_y})\n",
    "        if i % 10 == 0:\n",
    "            print c\n",
    "    \n",
    "    plt.figure(figsize=(10,10))\n",
    "    labels = []\n",
    "    test_x = []\n",
    "    for k in r_vocas.keys()[:30]:\n",
    "        test_x.append(vocas_map[k:k+1][0])\n",
    "        labels.append(r_vocas[k])\n",
    "    test_x = np.array(test_x)\n",
    "    \n",
    "    result = sess.run(layer1,{x:test_x})\n",
    "    pca = PCA(n_components=2)\n",
    "    pca.fit(result)\n",
    "    reduced_result = pca.transform(result)\n",
    "    for i in range(len(reduced_result)):\n",
    "        r = reduced_result[i]\n",
    "        l = labels[i]\n",
    "        plb.scatter(r[0],r[1])\n",
    "        plb.annotate(l, xy=(r[0],r[1]), xytext=(5, 2), textcoords='offset points',ha='right', va='bottom')    \n",
    "    "
   ]
  },
  {
   "cell_type": "code",
   "execution_count": null,
   "metadata": {
    "collapsed": true
   },
   "outputs": [],
   "source": []
  }
 ],
 "metadata": {
  "kernelspec": {
   "display_name": "Python 2",
   "language": "python",
   "name": "python2"
  },
  "language_info": {
   "codemirror_mode": {
    "name": "ipython",
    "version": 2
   },
   "file_extension": ".py",
   "mimetype": "text/x-python",
   "name": "python",
   "nbconvert_exporter": "python",
   "pygments_lexer": "ipython2",
   "version": "2.7.11"
  }
 },
 "nbformat": 4,
 "nbformat_minor": 2
}
