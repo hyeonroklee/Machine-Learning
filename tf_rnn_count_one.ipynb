{
 "cells": [
  {
   "cell_type": "code",
   "execution_count": 1,
   "metadata": {
    "collapsed": true
   },
   "outputs": [],
   "source": [
    "%matplotlib inline\n",
    "\n",
    "import numpy as np\n",
    "import tensorflow as tf\n",
    "import matplotlib.pyplot as plt"
   ]
  },
  {
   "cell_type": "code",
   "execution_count": 2,
   "metadata": {
    "collapsed": true
   },
   "outputs": [],
   "source": [
    "data_size = 1000\n",
    "step_size = 20\n",
    "split_rate = 0.7\n",
    "\n",
    "dataset = []\n",
    "for i in range(data_size):\n",
    "    d = np.random.randint(2,size=step_size)\n",
    "    idx = np.count_nonzero(d)\n",
    "    d = np.append(d,np.identity(21)[idx:idx+1])\n",
    "    dataset.append(d)\n",
    "dataset = np.array(dataset)\n",
    "\n",
    "train_dataset = dataset[:int(split_rate*data_size)]\n",
    "test_dataset = dataset[:int(split_rate*data_size)]\n",
    "\n",
    "train_x_dataset = train_dataset[:,:-21].reshape(-1,step_size,1)\n",
    "train_y_dataset = train_dataset[:,-21:]\n",
    "test_x_dataset = test_dataset[:,:-21].reshape(-1,step_size,1)\n",
    "test_y_dataset = test_dataset[:,-21:]"
   ]
  },
  {
   "cell_type": "code",
   "execution_count": 3,
   "metadata": {
    "collapsed": false
   },
   "outputs": [
    {
     "name": "stdout",
     "output_type": "stream",
     "text": [
      "0.174286\n",
      "0.575714\n",
      "0.977143\n",
      "0.205714\n",
      "0.964286\n",
      "0.992857\n",
      "1.0\n",
      "1.0\n",
      "1.0\n",
      "1.0\n",
      "count =  11\n",
      "predicted count =  11\n"
     ]
    },
    {
     "name": "stderr",
     "output_type": "stream",
     "text": [
      "/Library/Frameworks/Python.framework/Versions/2.7/lib/python2.7/site-packages/tensorflow/python/ops/gradients_impl.py:93: UserWarning: Converting sparse IndexedSlices to a dense Tensor of unknown shape. This may consume a large amount of memory.\n",
      "  \"Converting sparse IndexedSlices to a dense Tensor of unknown shape. \"\n"
     ]
    }
   ],
   "source": [
    "tf.reset_default_graph()\n",
    "\n",
    "num_hidden = 24\n",
    "x = tf.placeholder(tf.float32,[None,step_size,1])\n",
    "y = tf.placeholder(tf.float32,[None,21])\n",
    "cell = tf.contrib.rnn.LSTMCell(num_hidden)\n",
    "val, state = tf.nn.dynamic_rnn(cell,x,dtype=tf.float32)\n",
    "val = tf.transpose(val,[1,0,2])\n",
    "last = tf.gather(val,int(val.get_shape()[0])-1)\n",
    "\n",
    "w = tf.Variable(tf.random_normal([num_hidden,21]),dtype=tf.float32)\n",
    "b = tf.Variable(tf.constant(0.0),dtype=tf.float32)\n",
    "o = tf.nn.softmax(tf.matmul(last,w) + b)\n",
    "pred = tf.argmax(o,1)\n",
    "\n",
    "cost = tf.reduce_mean(tf.square(-y*tf.log(o)))\n",
    "grad = tf.train.AdamOptimizer(0.1).minimize(cost)\n",
    "acc = tf.reduce_mean(tf.cast(tf.equal(tf.argmax(y,1),pred),dtype=tf.float32))\n",
    "\n",
    "init = tf.global_variables_initializer()\n",
    "\n",
    "with tf.Session() as sess:\n",
    "    sess.run(init)\n",
    "    for i in range(1000):\n",
    "        c,_ = sess.run([cost,grad],{x:train_x_dataset,y:train_y_dataset})\n",
    "        if i % 100 == 0:\n",
    "            a = sess.run(acc,{x:test_x_dataset,y:test_y_dataset})\n",
    "            print a\n",
    "            \n",
    "    test_x = np.random.randint(2,size=step_size)\n",
    "    count = np.count_nonzero(test_x)\n",
    "    test_y = np.identity(21)[count:count+1]\n",
    "    print 'count = ' ,count\n",
    "    print 'predicted count = ', sess.run(pred,{x:test_x.reshape(1,step_size,1)})[0]"
   ]
  },
  {
   "cell_type": "code",
   "execution_count": null,
   "metadata": {
    "collapsed": true
   },
   "outputs": [],
   "source": []
  }
 ],
 "metadata": {
  "kernelspec": {
   "display_name": "Python 2",
   "language": "python",
   "name": "python2"
  },
  "language_info": {
   "codemirror_mode": {
    "name": "ipython",
    "version": 2
   },
   "file_extension": ".py",
   "mimetype": "text/x-python",
   "name": "python",
   "nbconvert_exporter": "python",
   "pygments_lexer": "ipython2",
   "version": "2.7.11"
  }
 },
 "nbformat": 4,
 "nbformat_minor": 0
}
