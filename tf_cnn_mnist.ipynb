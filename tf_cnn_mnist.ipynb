{
 "cells": [
  {
   "cell_type": "code",
   "execution_count": 1,
   "metadata": {
    "collapsed": true
   },
   "outputs": [],
   "source": [
    "%matplotlib inline\n",
    "\n",
    "import numpy as np\n",
    "import matplotlib.pyplot as plt\n",
    "import tensorflow as tf\n",
    "from tensorflow.examples.tutorials.mnist import input_data"
   ]
  },
  {
   "cell_type": "code",
   "execution_count": 2,
   "metadata": {
    "collapsed": false
   },
   "outputs": [
    {
     "name": "stdout",
     "output_type": "stream",
     "text": [
      "Extracting MNIST_data/train-images-idx3-ubyte.gz\n",
      "Extracting MNIST_data/train-labels-idx1-ubyte.gz\n",
      "Extracting MNIST_data/t10k-images-idx3-ubyte.gz\n",
      "Extracting MNIST_data/t10k-labels-idx1-ubyte.gz\n"
     ]
    }
   ],
   "source": [
    "############################\n",
    "# generate data\n",
    "############################\n",
    "mnist_data = input_data.read_data_sets('MNIST_data', one_hot=True)"
   ]
  },
  {
   "cell_type": "code",
   "execution_count": 3,
   "metadata": {
    "collapsed": true
   },
   "outputs": [],
   "source": [
    "#############################\n",
    "# construct the model\n",
    "#############################\n",
    "\n",
    "tf.reset_default_graph()\n",
    "\n",
    "filter_in_channels = 1\n",
    "filter_out_channels = 32\n",
    "convolution_filter_size = (5,5,filter_in_channels,filter_out_channels)\n",
    "convolution_strides = (1,1,1,1)\n",
    "pooling_filter_size = (1,4,4,1)\n",
    "pooling_strides = (1,4,4,1)\n",
    "\n",
    "x = tf.placeholder(dtype=tf.float32,shape=(None,784),name='x')\n",
    "x_image = tf.reshape(x,(-1,28,28,1))\n",
    "y = tf.placeholder(dtype=tf.float32,shape=(None,10),name='y')\n",
    "conv_filter = tf.Variable(np.random.normal(size=convolution_filter_size),dtype=tf.float32,name='convolution')\n",
    "conv_out = tf.nn.relu(tf.nn.conv2d(x_image,conv_filter,convolution_strides,padding='VALID'))\n",
    "pool_out = tf.nn.max_pool(conv_out,pooling_filter_size,pooling_strides,padding='VALID')\n",
    "\n",
    "fc_input = tf.reshape(pool_out,(-1,36*filter_out_channels))\n",
    "\n",
    "h1_size = 18\n",
    "w1 = tf.Variable(np.random.normal(loc=0.0,scale=0.01,size=(36*filter_out_channels,h1_size)),dtype=tf.float32,name='w1')\n",
    "b1 = tf.Variable(np.zeros(h1_size),dtype=tf.float32,name='b1')\n",
    "fc_layer1 = tf.nn.relu(tf.matmul(fc_input,w1) + b1)\n",
    "\n",
    "keep_prob = tf.placeholder(tf.float32)\n",
    "fc_layer1_drop = tf.nn.dropout(fc_layer1, keep_prob)\n",
    "\n",
    "h2_size = 10\n",
    "w2 = tf.Variable(np.random.normal(loc=0.0,scale=0.01,size=(h1_size,h2_size)),dtype=tf.float32,name='w2')\n",
    "b2 = tf.Variable(np.zeros(h2_size),dtype=tf.float32,name='b2')\n",
    "y_hat = tf.nn.softmax(tf.matmul(fc_layer1_drop,w2) + b2)\n",
    "\n",
    "cost = tf.reduce_mean(-tf.reduce_sum(y*tf.log(y_hat),1))\n",
    "grad = tf.train.AdamOptimizer(0.0001).minimize(cost)\n",
    "acc =  tf.reduce_mean(tf.cast(tf.equal(tf.argmax(y,1) , tf.argmax(y_hat,1)),tf.float32))"
   ]
  },
  {
   "cell_type": "code",
   "execution_count": 4,
   "metadata": {
    "collapsed": false
   },
   "outputs": [
    {
     "name": "stdout",
     "output_type": "stream",
     "text": [
      "0  training... cost :  2.30411  accuracy :  0.08\n",
      "500  training... cost :  0.788275  accuracy :  0.78\n",
      "1000  training... cost :  0.582735  accuracy :  0.84\n",
      "1500  training... cost :  0.323418  accuracy :  0.9\n",
      "2000  training... cost :  0.403309  accuracy :  0.86\n",
      "2500  training... cost :  0.2355  accuracy :  0.94\n",
      "3000  training... cost :  0.230954  accuracy :  0.92\n",
      "3500  training... cost :  0.315547  accuracy :  0.86\n",
      "4000  training... cost :  0.22072  accuracy :  0.92\n",
      "4500  training... cost :  0.253824  accuracy :  0.88\n",
      "5000  training... cost :  0.477962  accuracy :  0.9\n",
      "5500  training... cost :  0.122048  accuracy :  0.96\n",
      "6000  training... cost :  0.113115  accuracy :  0.94\n",
      "6500  training... cost :  0.185603  accuracy :  0.92\n",
      "7000  training... cost :  0.359845  accuracy :  0.88\n",
      "7500  training... cost :  0.193512  accuracy :  0.96\n",
      "8000  training... cost :  0.109174  accuracy :  0.96\n",
      "8500  training... cost :  0.066943  accuracy :  0.98\n",
      "9000  training... cost :  0.249042  accuracy :  0.9\n",
      "9500  training... cost :  0.255326  accuracy :  0.96\n",
      "final accuracy :  0.9746\n"
     ]
    }
   ],
   "source": [
    "#############################\n",
    "# train & test the model\n",
    "#############################\n",
    "epoches = 10000\n",
    "batch_size = 50\n",
    "init = tf.global_variables_initializer()\n",
    "with tf.Session() as sess:\n",
    "    sess.run(init)\n",
    "    for i in range(epoches):\n",
    "        train_x, train_y = mnist_data.train.next_batch(batch_size)\n",
    "        c,a,_ = sess.run([cost,acc,grad],{x:train_x,y:train_y,keep_prob:0.9})\n",
    "        if i % 500 == 0:\n",
    "            print i,' training... cost : ', c , ' accuracy : ', a\n",
    "    print 'final accuracy : ',sess.run(acc,{x: mnist_data.test.images,y: mnist_data.test.labels,keep_prob:1})"
   ]
  },
  {
   "cell_type": "code",
   "execution_count": null,
   "metadata": {
    "collapsed": true
   },
   "outputs": [],
   "source": []
  }
 ],
 "metadata": {
  "kernelspec": {
   "display_name": "Python 2",
   "language": "python",
   "name": "python2"
  },
  "language_info": {
   "codemirror_mode": {
    "name": "ipython",
    "version": 2
   },
   "file_extension": ".py",
   "mimetype": "text/x-python",
   "name": "python",
   "nbconvert_exporter": "python",
   "pygments_lexer": "ipython2",
   "version": "2.7.11"
  }
 },
 "nbformat": 4,
 "nbformat_minor": 0
}
