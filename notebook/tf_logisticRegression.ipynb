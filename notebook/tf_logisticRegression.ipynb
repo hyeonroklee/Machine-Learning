{
 "cells": [
  {
   "cell_type": "code",
   "execution_count": 1,
   "metadata": {
    "collapsed": false
   },
   "outputs": [],
   "source": [
    "%matplotlib inline\n",
    "import matplotlib.pyplot as plt\n",
    "\n",
    "import numpy as np\n",
    "import tensorflow as tf"
   ]
  },
  {
   "cell_type": "code",
   "execution_count": 2,
   "metadata": {
    "collapsed": false
   },
   "outputs": [],
   "source": [
    "x_a = np.random.multivariate_normal([1,1],[[1,0],[0,1]],size=100)\n",
    "y_a = np.zeros([100,1],dtype=np.int)\n",
    "x_b = np.random.multivariate_normal([3,3],[[1,0],[0,1]],size=100)\n",
    "y_b = np.ones([100,1],dtype=np.int)"
   ]
  },
  {
   "cell_type": "code",
   "execution_count": 3,
   "metadata": {
    "collapsed": false
   },
   "outputs": [],
   "source": [
    "_x = np.append(x_a,x_b,axis=0)\n",
    "_y = np.append(y_a,y_b,axis=0)"
   ]
  },
  {
   "cell_type": "code",
   "execution_count": 4,
   "metadata": {
    "collapsed": false
   },
   "outputs": [],
   "source": [
    "learning_rate = 0.5\n",
    "x = tf.placeholder(tf.float32,[None,2],name='x')\n",
    "y = tf.placeholder(tf.float32,[None,1],name='y')\n",
    "w = tf.Variable(np.zeros([2,1]),name='w',dtype=tf.float32)\n",
    "b = tf.Variable(np.zeros([1,1]),name='b',dtype=tf.float32)\n",
    "y_hat = tf.sigmoid(tf.matmul(x,w) + b)\n",
    "cost = tf.reduce_mean(tf.abs(y - y_hat))\n",
    "gradient = tf.train.GradientDescentOptimizer(learning_rate).minimize(cost)  "
   ]
  },
  {
   "cell_type": "code",
   "execution_count": 5,
   "metadata": {
    "collapsed": false
   },
   "outputs": [],
   "source": [
    "init = tf.global_variables_initializer()\n",
    "session =  tf.Session()\n",
    "session.run(init)\n",
    "for i in range(10000):\n",
    "    c,g = session.run([cost,gradient],feed_dict={x:_x,y:_y})\n",
    "    if c < 0.1:\n",
    "        break"
   ]
  },
  {
   "cell_type": "code",
   "execution_count": 6,
   "metadata": {
    "collapsed": false
   },
   "outputs": [],
   "source": [
    "__w = w.eval(session)\n",
    "__b = b.eval(session)\n",
    "__x = np.linspace(-2,6,num=10)\n",
    "__y = (-__b[0,0] - __x * __w[0,0]) / __w[1,0] "
   ]
  },
  {
   "cell_type": "code",
   "execution_count": 7,
   "metadata": {
    "collapsed": false
   },
   "outputs": [
    {
     "name": "stdout",
     "output_type": "stream",
     "text": [
      "[[ 4.97912693]\n",
      " [ 3.52199721]]\n"
     ]
    },
    {
     "data": {
      "text/plain": [
       "[<matplotlib.lines.Line2D at 0x10eff2990>]"
      ]
     },
     "execution_count": 7,
     "metadata": {},
     "output_type": "execute_result"
    },
    {
     "data": {
      "image/png": "[encoded data removed]",
      "text/plain": [
       "<matplotlib.figure.Figure at 0x10ee23050>"
      ]
     },
     "metadata": {},
     "output_type": "display_data"
    }
   ],
   "source": [
    "print w.eval(session)\n",
    "\n",
    "\n",
    "\n",
    "plt.plot(x_a[:,0],x_a[:,1],'r+')\n",
    "plt.plot(x_b[:,0],x_b[:,1],'b+')\n",
    "plt.plot(__x,__y)"
   ]
  },
  {
   "cell_type": "code",
   "execution_count": null,
   "metadata": {
    "collapsed": true
   },
   "outputs": [],
   "source": []
  }
 ],
 "metadata": {
  "kernelspec": {
   "display_name": "Python 2",
   "language": "python",
   "name": "python2"
  },
  "language_info": {
   "codemirror_mode": {
    "name": "ipython",
    "version": 2
   },
   "file_extension": ".py",
   "mimetype": "text/x-python",
   "name": "python",
   "nbconvert_exporter": "python",
   "pygments_lexer": "ipython2",
   "version": "2.7.11"
  }
 },
 "nbformat": 4,
 "nbformat_minor": 0
}
