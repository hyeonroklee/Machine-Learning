{
 "cells": [
  {
   "cell_type": "code",
   "execution_count": 7,
   "metadata": {
    "collapsed": true
   },
   "outputs": [],
   "source": [
    "import numpy as np\n",
    "import tensorflow as tf"
   ]
  },
  {
   "cell_type": "code",
   "execution_count": 22,
   "metadata": {
    "collapsed": false
   },
   "outputs": [],
   "source": [
    "bandits = [5, 0, -0.2, -5]\n",
    "num_bandits = len(bandits)\n",
    "def pullBandit(bandit):\n",
    "    result = np.random.randn(1)\n",
    "    if result < bandit:\n",
    "        return 1\n",
    "    else:\n",
    "        return -1"
   ]
  },
  {
   "cell_type": "code",
   "execution_count": 23,
   "metadata": {
    "collapsed": false
   },
   "outputs": [],
   "source": [
    "tf.reset_default_graph()\n",
    "\n",
    "weights = tf.Variable(tf.ones([num_bandits]),name='weights')\n",
    "chosen_action = tf.argmax(weights,0)\n",
    "reward_holder = tf.placeholder(shape=[1],dtype=tf.float32,name='reward_holder')\n",
    "action_holder = tf.placeholder(shape=[1],dtype=tf.int32,name='action_holder')\n",
    "\n",
    "resposible_weight = tf.slice(weights,action_holder,[1])\n",
    "loss = -(tf.log(resposible_weight)*reward_holder)\n",
    "grad = tf.train.GradientDescentOptimizer(0.001).minimize(loss)"
   ]
  },
  {
   "cell_type": "code",
   "execution_count": 24,
   "metadata": {
    "collapsed": false
   },
   "outputs": [],
   "source": [
    "log = tf.summary.FileWriter('./log',graph=tf.get_default_graph())"
   ]
  },
  {
   "cell_type": "code",
   "execution_count": 33,
   "metadata": {
    "collapsed": false,
    "scrolled": true
   },
   "outputs": [
    {
     "name": "stdout",
     "output_type": "stream",
     "text": [
      "[ 1.00100005  1.          1.          1.        ]\n",
      "[ 1.0488317   1.          0.99900001  1.        ]\n",
      "[ 1.09274375  1.          0.99799901  0.99799901]\n",
      "[ 1.13319266  0.99900001  0.99900204  0.996997  ]\n",
      "[ 1.17139161  1.00000107  0.99700004  0.99599397]\n",
      "[ 1.20589662  0.99699807  0.99900508  0.99197173]\n",
      "[ 1.24588108  0.99599504  0.99900508  0.99197173]\n",
      "[ 1.28306222  0.99699908  0.99900508  0.98995453]\n",
      "[ 1.31843662  0.99699908  0.99900609  0.98793322]\n",
      "[ 1.35288608  0.99599606  0.99700308  0.98692101]\n",
      "[ 1.38720083  0.9970001   0.99700308  0.98489344]\n",
      "[ 1.41998172  0.99599707  0.99800611  0.9828617 ]\n",
      "[ 1.45202291  0.99800414  0.99700409  0.98184425]\n",
      "[ 1.48134756  0.99800515  0.99600106  0.97776395]\n",
      "[ 1.51208818  0.99700314  0.99600208  0.97674119]\n",
      "[ 1.54221606  0.99499607  0.99700612  0.97571737]\n",
      "[ 1.57303846  0.99399102  0.99600309  0.97571737]\n",
      "[ 1.60077095  0.99399203  0.99499905  0.97263944]\n",
      "[ 1.63109958  0.99399203  0.993994    0.97263944]\n",
      "[ 1.65966952  0.9949981   0.993994    0.97058213]\n"
     ]
    }
   ],
   "source": [
    "total_episodes = 1000\n",
    "total_reward = np.zeros(num_bandits)\n",
    "e = 0.1\n",
    "\n",
    "init = tf.global_variables_initializer()\n",
    "with tf.Session() as sess:\n",
    "    sess.run(init)\n",
    "    i = 0\n",
    "    while i < total_episodes:\n",
    "        if np.random.rand() < e:\n",
    "            action = np.random.randint(num_bandits)\n",
    "        else:\n",
    "            action = sess.run(chosen_action)\n",
    "            \n",
    "        reward = pullBandit(bandits[action])\n",
    "        g,r,w = sess.run([grad,resposible_weight,weights],\n",
    "                         feed_dict={reward_holder:[reward],\n",
    "                                    action_holder:[action]})\n",
    "        total_reward[action] += reward\n",
    "        if i % 50 == 0:\n",
    "            print sess.run(weights)\n",
    "        i+=1"
   ]
  },
  {
   "cell_type": "code",
   "execution_count": 13,
   "metadata": {
    "collapsed": false
   },
   "outputs": [],
   "source": [
    "import tensorflow as tf\n",
    "import tensorflow.contrib.slim as slim\n",
    "import numpy as np"
   ]
  },
  {
   "cell_type": "code",
   "execution_count": 32,
   "metadata": {
    "collapsed": true
   },
   "outputs": [],
   "source": [
    "class contextual_bandit():\n",
    "    def __init__(self):\n",
    "        self.state = 0\n",
    "        self.bandits = np.array([[0.2,0,-0,-5],[0.1,-5,1,0.25],[-5,5,5,5]])\n",
    "        self.num_bandits = self.bandits.shape[0]\n",
    "        self.num_actions = self.bandits.shape[1]\n",
    "    \n",
    "    def getBandit(self):\n",
    "        self.state = np.random.randint(0,len(self.bandits))\n",
    "        return self.state\n",
    "    \n",
    "    def pullArm(self,action):\n",
    "        bandit = self.bandits(self.state,action)\n",
    "        result = np.random.randn(1)\n",
    "        if result > bandit:\n",
    "            return 1\n",
    "        else:\n",
    "            return -1\n",
    "        \n",
    "class agent():\n",
    "    def __init__(self,)"
   ]
  },
  {
   "cell_type": "code",
   "execution_count": null,
   "metadata": {
    "collapsed": true
   },
   "outputs": [],
   "source": []
  }
 ],
 "metadata": {
  "kernelspec": {
   "display_name": "Python 2",
   "language": "python",
   "name": "python2"
  },
  "language_info": {
   "codemirror_mode": {
    "name": "ipython",
    "version": 2
   },
   "file_extension": ".py",
   "mimetype": "text/x-python",
   "name": "python",
   "nbconvert_exporter": "python",
   "pygments_lexer": "ipython2",
   "version": "2.7.11"
  }
 },
 "nbformat": 4,
 "nbformat_minor": 0
}
