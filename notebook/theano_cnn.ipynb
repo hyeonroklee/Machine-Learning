{
 "cells": [
  {
   "cell_type": "code",
   "execution_count": 28,
   "metadata": {
    "collapsed": false
   },
   "outputs": [],
   "source": [
    "%matplotlib inline\n",
    "\n",
    "import numpy as np\n",
    "import matplotlib.pyplot as plt\n",
    "from PIL import Image\n",
    "import gzip,cPickle\n",
    "\n",
    "import theano\n",
    "from theano import tensor as T\n",
    "from theano import shared,function,grad,pp\n",
    "from theano.tensor.nnet import conv2d\n",
    "from theano.tensor.signal import pool"
   ]
  },
  {
   "cell_type": "code",
   "execution_count": 29,
   "metadata": {
    "collapsed": false
   },
   "outputs": [],
   "source": [
    "img = Image.open(open('3wolfmoon.jpg'))\n",
    "img1 = np.array(img,dtype='float64') / 256.\n",
    "img2 = img1.transpose(2,0,1).reshape(1,3,639,516)\n",
    "\n",
    "f = gzip.open('mnist.pkl.gz','rb')\n",
    "train_set,valid_set,test_set = cPickle.load(f)\n",
    "f.close()\n",
    "def share_dataset(data_xy):\n",
    "    data_x,data_y = data_xy\n",
    "    shared_x = shared(np.array(data_x,dtype=theano.config.floatX))\n",
    "    shared_y = shared(np.array(data_y,dtype=theano.config.floatX))\n",
    "    return shared_x,T.cast(shared_y,'int32')\n",
    "\n",
    "train_set_x,train_set_y = share_dataset(train_set)\n",
    "valid_set_x,valid_set_y = share_dataset(valid_set)\n",
    "test_set_x,test_set_y = share_dataset(test_set)"
   ]
  },
  {
   "cell_type": "code",
   "execution_count": 30,
   "metadata": {
    "collapsed": true
   },
   "outputs": [],
   "source": [
    "class LogisticRegression(object):\n",
    "    def __init__(self,x,n_in,n_out):\n",
    "        self.W = theano.shared(\n",
    "            value=np.zeros(\n",
    "                (n_in,n_out),\n",
    "                dtype=theano.config.floatX\n",
    "            ),\n",
    "            name='W',\n",
    "            borrow=True\n",
    "        )\n",
    "        self.b = theano.shared(\n",
    "            value=np.zeros(\n",
    "                (n_out,),\n",
    "                dtype=theano.config.floatX\n",
    "            ),\n",
    "            name='b',\n",
    "            borrow=True\n",
    "        )\n",
    "        self.p_y_given_x = T.nnet.softmax(T.dot(x,self.W)+self.b)\n",
    "        self.y_pred = T.argmax(self.p_y_given_x,axis=1)\n",
    "        self.params = [ self.W, self.b ]\n",
    "        self.x = x\n",
    "    \n",
    "    def negative_log_likelihood(self,y):\n",
    "        return -T.mean(T.log(self.p_y_given_x)[T.arange(y.shape[0]),y])\n",
    "    \n",
    "    def errors(self,y):\n",
    "        return T.mean(T.neq(self.y_pred,y))"
   ]
  },
  {
   "cell_type": "code",
   "execution_count": 31,
   "metadata": {
    "collapsed": true
   },
   "outputs": [],
   "source": [
    "class HiddenLayer(object):\n",
    "    def __init__(self,x,n_in,n_out):\n",
    "        self.x = x\n",
    "        W_values = np.asarray(\n",
    "                np.random.uniform(\n",
    "                    low=-np.sqrt(6./(n_in + n_out)),\n",
    "                    high=np.sqrt(6./(n_in + n_out)),\n",
    "                    size=(n_in,n_out)\n",
    "                ),\n",
    "                dtype=theano.config.floatX\n",
    "        )\n",
    "        W = shared(value=W_values, name='W',borrow=True)\n",
    "        b_values = np.zeros((n_out,),dtype=theano.config.floatX)\n",
    "        b = shared(value=b_values,name='b',borrow=True)\n",
    "        self.W = W\n",
    "        self.b = b\n",
    "        self.output = T.tanh(T.dot(x,self.W) + self.b)\n",
    "        self.params = [ self.W, self.b ]"
   ]
  },
  {
   "cell_type": "code",
   "execution_count": 32,
   "metadata": {
    "collapsed": false
   },
   "outputs": [],
   "source": [
    "class ConvPoolLayer(object):\n",
    "    def __init__(self,input,filter_shape,image_shape,pool_shape=(2,2)):\n",
    "        \n",
    "        self.input = input\n",
    "        \n",
    "        fan_in = np.prod(filter_shape[1:])\n",
    "        fan_out = (filter_shape[0] * np.prod(filter_shape[2:]) //\n",
    "                   np.prod(pool_shape))\n",
    "        W_bound = np.sqrt(6./(fan_in + fan_out))\n",
    "        self.W = shared(\n",
    "            np.asarray(\n",
    "                np.random.uniform(low=-W_bound,high=W_bound,size=filter_shape),\n",
    "                dtype=theano.config.floatX\n",
    "            ),\n",
    "            borrow=True\n",
    "        )\n",
    "        \n",
    "        b_values = np.zeros((filter_shape[0],),dtype=theano.config.floatX)\n",
    "        self.b = shared(value=b_values,borrow=True)\n",
    "        \n",
    "        conv_out = conv2d(\n",
    "            input=input,\n",
    "            filters=self.W,\n",
    "            filter_shape=filter_shape,\n",
    "            input_shape=image_shape\n",
    "        )\n",
    "        \n",
    "        pooled_out = pool.pool_2d(\n",
    "            input=conv_out,\n",
    "            ds=pool_shape,\n",
    "            ignore_border=True\n",
    "        )\n",
    "        \n",
    "        self.output = T.tanh(pooled_out + self.b.dimshuffle('x',0,'x','x'))\n",
    "        self.params = [self.W, self.b]\n",
    "    "
   ]
  },
  {
   "cell_type": "code",
   "execution_count": 48,
   "metadata": {
    "collapsed": false
   },
   "outputs": [],
   "source": [
    "batch_size = 600\n",
    "i = T.lscalar('i')\n",
    "x = T.matrix('x')\n",
    "y = T.ivector('y')\n",
    "nkerns = [2,2]\n",
    "alpha = 0.1\n",
    "\n",
    "n_train_batches = train_set_x.get_value(borrow=True).shape[0] // batch_size\n",
    "n_valid_batches = valid_set_x.get_value(borrow=True).shape[0] // batch_size\n",
    "n_test_batches = test_set_x.get_value(borrow=True).shape[0] // batch_size\n",
    "\n",
    "layer0_input = x.reshape((batch_size,1,28,28))\n",
    "layer0 = ConvPoolLayer(\n",
    "    input = layer0_input,\n",
    "    image_shape=(batch_size,1,28,28),\n",
    "    filter_shape=(nkerns[0],1,5,5),\n",
    "    pool_shape=(2,2)\n",
    ")\n",
    "\n",
    "layer1 = ConvPoolLayer(\n",
    "    input=layer0.output,\n",
    "    image_shape=(batch_size,nkerns[0],12,12),\n",
    "    filter_shape=(nkerns[1],nkerns[0],5,5),\n",
    "    pool_shape=(2,2)\n",
    ")\n",
    "\n",
    "layer2_input = layer1.output.flatten(2)\n",
    "layer2 = HiddenLayer(x=layer2_input,n_in=nkerns[1]*4*4,\n",
    "                    n_out=500)\n",
    "layer3 = LogisticRegression(x=layer2.output,n_in=500,n_out=10)\n",
    "cost = layer3.negative_log_likelihood(y)\n",
    "test_model = theano.function(\n",
    "        [i],\n",
    "        layer3.errors(y),\n",
    "        givens={\n",
    "            x: test_set_x[i * batch_size: (i + 1) * batch_size],\n",
    "            y: test_set_y[i * batch_size: (i + 1) * batch_size]\n",
    "        }\n",
    "    )\n",
    "\n",
    "params = layer3.params + layer2.params + layer1.params + layer0.params\n",
    "grads = grad(cost,params)\n",
    "\n",
    "updates = [\n",
    "    (param_i,param_i - alpha * grad_i) \n",
    "    for param_i,grad_i in zip(params,grads)\n",
    "]\n",
    "\n",
    "train_model = theano.function(\n",
    "        [i],\n",
    "        cost,\n",
    "        updates=updates,\n",
    "        givens={\n",
    "            x: train_set_x[i * batch_size: (i + 1) * batch_size],\n",
    "            y: train_set_y[i * batch_size: (i + 1) * batch_size]\n",
    "        }\n",
    "    )"
   ]
  },
  {
   "cell_type": "code",
   "execution_count": 49,
   "metadata": {
    "collapsed": false
   },
   "outputs": [
    {
     "name": "stdout",
     "output_type": "stream",
     "text": [
      "0.911666666667\n",
      "0.258333333333\n"
     ]
    }
   ],
   "source": [
    "print test_model(0)\n",
    "for epoch in range(1):\n",
    "    costs = [] \n",
    "    for i in range(n_train_batches):\n",
    "        costs.append(train_model(i))\n",
    "print test_model(0)"
   ]
  },
  {
   "cell_type": "code",
   "execution_count": null,
   "metadata": {
    "collapsed": true
   },
   "outputs": [],
   "source": []
  }
 ],
 "metadata": {
  "kernelspec": {
   "display_name": "Python 2",
   "language": "python",
   "name": "python2"
  },
  "language_info": {
   "codemirror_mode": {
    "name": "ipython",
    "version": 2
   },
   "file_extension": ".py",
   "mimetype": "text/x-python",
   "name": "python",
   "nbconvert_exporter": "python",
   "pygments_lexer": "ipython2",
   "version": "2.7.11"
  }
 },
 "nbformat": 4,
 "nbformat_minor": 0
}
