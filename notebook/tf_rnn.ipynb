{
 "cells": [
  {
   "cell_type": "code",
   "execution_count": 1,
   "metadata": {
    "collapsed": true
   },
   "outputs": [],
   "source": [
    "import numpy as np\n",
    "import tensorflow as tf"
   ]
  },
  {
   "cell_type": "code",
   "execution_count": 23,
   "metadata": {
    "collapsed": false
   },
   "outputs": [
    {
     "data": {
      "text/plain": [
       "(1024, 20, 1)"
      ]
     },
     "execution_count": 23,
     "metadata": {},
     "output_type": "execute_result"
    }
   ],
   "source": [
    "train_input = ['{0:020b}'.format(i) for i in range(2**10)]\n",
    "np.random.shuffle(train_input)\n",
    "train_input = [map(int,i) for i in train_input]\n",
    "ti = []\n",
    "for i in train_input:\n",
    "    temp_list = []\n",
    "    for j in i:\n",
    "        temp_list.append([j])\n",
    "    ti.append(np.array(temp_list))\n",
    "train_input = np.array(ti)\n",
    "train_input.shape"
   ]
  },
  {
   "cell_type": "code",
   "execution_count": 25,
   "metadata": {
    "collapsed": false
   },
   "outputs": [
    {
     "data": {
      "text/plain": [
       "(1024, 21)"
      ]
     },
     "execution_count": 25,
     "metadata": {},
     "output_type": "execute_result"
    }
   ],
   "source": [
    "train_output = []\n",
    "for i in train_input:\n",
    "    count = 0\n",
    "    for j in i:\n",
    "        if j[0] == 1:\n",
    "            count += 1\n",
    "    temp_list = ([0]*21)\n",
    "    temp_list[count] = 1\n",
    "    train_output.append(temp_list)\n",
    "train_output = np.array(train_output)\n",
    "train_output.shape"
   ]
  },
  {
   "cell_type": "code",
   "execution_count": 63,
   "metadata": {
    "collapsed": false
   },
   "outputs": [
    {
     "name": "stdout",
     "output_type": "stream",
     "text": [
      "0.758789\n",
      "0.753906\n",
      "0.514648\n",
      "0.384766\n",
      "0.276367\n",
      "0.21875\n",
      "0.173828\n",
      "0.133789\n",
      "0.09375\n",
      "0.0634766\n",
      "0.046875\n",
      "0.0292969\n",
      "0.0214844\n",
      "0.0195312\n",
      "0.015625\n",
      "0.0136719\n",
      "0.0136719\n",
      "0.0136719\n",
      "0.0126953\n",
      "0.0117188\n"
     ]
    }
   ],
   "source": [
    "\n",
    "tf.reset_default_graph()\n",
    "\n",
    "data = tf.placeholder(tf.float32,[None,20,1])\n",
    "target = tf.placeholder(tf.float32,[None,21])\n",
    "num_hidden = 24\n",
    "cell = tf.nn.rnn_cell.LSTMCell(num_hidden,state_is_tuple=True)\n",
    "val, state = tf.nn.dynamic_rnn(cell,data,dtype=tf.float32)\n",
    "val = tf.transpose(val,[1,0,2])\n",
    "last = tf.gather(val,int(val.get_shape()[0])-1)\n",
    "weight = tf.Variable(\n",
    "    tf.truncated_normal([num_hidden,int(target.get_shape()[1])])\n",
    "    )\n",
    "bias = tf.Variable(tf.constant(0.1, shape=[target.get_shape()[1]]))\n",
    "prediction = tf.nn.softmax(tf.matmul(last,weight) + bias)\n",
    "cross_entroy = -tf.reduce_sum(target * tf.log(tf.clip_by_value\n",
    "                                             (prediction,1e-10,1.0)\n",
    "                                             ))\n",
    "\n",
    "opt = tf.train.AdamOptimizer().minimize(cross_entroy)\n",
    "\n",
    "mistakes = tf.not_equal(tf.argmax(target, 1), tf.argmax(prediction, 1))\n",
    "error = tf.reduce_mean(tf.cast(mistakes, tf.float32))\n",
    "\n",
    "init = tf.global_variables_initializer()\n",
    "sess = tf.InteractiveSession()\n",
    "sess.run(init)\n",
    "for i in range(1000):\n",
    "    sess.run(opt,feed_dict={data : train_input,target : train_output})\n",
    "    if i % 50 == 0:\n",
    "        print sess.run(error,feed_dict={data : train_input,target : train_output})\n",
    "sess.close()"
   ]
  },
  {
   "cell_type": "code",
   "execution_count": 55,
   "metadata": {
    "collapsed": false
   },
   "outputs": [],
   "source": [
    " tf.clip_by_value?"
   ]
  },
  {
   "cell_type": "code",
   "execution_count": null,
   "metadata": {
    "collapsed": true
   },
   "outputs": [],
   "source": []
  }
 ],
 "metadata": {
  "kernelspec": {
   "display_name": "Python 2",
   "language": "python",
   "name": "python2"
  },
  "language_info": {
   "codemirror_mode": {
    "name": "ipython",
    "version": 2
   },
   "file_extension": ".py",
   "mimetype": "text/x-python",
   "name": "python",
   "nbconvert_exporter": "python",
   "pygments_lexer": "ipython2",
   "version": "2.7.11"
  }
 },
 "nbformat": 4,
 "nbformat_minor": 0
}
