{
 "cells": [
  {
   "cell_type": "code",
   "execution_count": 1,
   "metadata": {
    "collapsed": false
   },
   "outputs": [],
   "source": [
    "%matplotlib inline\n",
    "\n",
    "import numpy as np\n",
    "import tensorflow as tf\n",
    "import matplotlib.pyplot as plt\n",
    "from sklearn.preprocessing import PolynomialFeatures\n",
    "from sklearn.cross_validation import train_test_split"
   ]
  },
  {
   "cell_type": "code",
   "execution_count": 6,
   "metadata": {
    "collapsed": false
   },
   "outputs": [
    {
     "name": "stdout",
     "output_type": "stream",
     "text": [
      "degree :  1\n",
      "train cost :  134.855\n",
      "validation cost :  175.572\n",
      "test cost :  194.326\n",
      "degree :  2\n",
      "train cost :  144.513\n",
      "validation cost :  227.49\n",
      "test cost :  175.349\n",
      "degree :  3\n",
      "train cost :  58.576\n",
      "validation cost :  95.213\n",
      "test cost :  85.3833\n",
      "degree :  4\n",
      "train cost :  46.4832\n",
      "validation cost :  95.7484\n",
      "test cost :  96.5249\n",
      "\n",
      "\n",
      "best_dgree :  3\n",
      "best_validation_cost :  95.213\n",
      "best_test_cost :  85.3833\n"
     ]
    },
    {
     "data": {
      "text/plain": [
       "[<matplotlib.lines.Line2D at 0x1118d5d10>]"
      ]
     },
     "execution_count": 6,
     "metadata": {},
     "output_type": "execute_result"
    },
    {
     "data": {
      "image/png": "[encoded data removed]",
      "text/plain": [
       "<matplotlib.figure.Figure at 0x11204ea10>"
      ]
     },
     "metadata": {},
     "output_type": "display_data"
    }
   ],
   "source": [
    "ds = [ 1,2,3,4 ]\n",
    "data_x = np.random.uniform(low=-10,high=10,size=[100,1])\n",
    "data_y = (data_x**3) + 4*(data_x**2) - 3*data_x + 10 + np.random.normal(scale=100,size=[len(data_x),1])\n",
    "X_train,X_test,y_train,y_test = train_test_split(data_x,data_y,test_size=0.9)\n",
    "X_val,X_test,y_val,y_test = train_test_split(X_test,y_test,test_size=0.9)\n",
    "\n",
    "best_dgree = 0\n",
    "best_validation_cost = np.inf\n",
    "best_test_cost = 0\n",
    "\n",
    "for d in ds:        \n",
    "    encoding_feature = PolynomialFeatures(degree=d)\n",
    "    encoding_feature.fit(X_train)\n",
    "    encoded_x = encoding_feature.transform(X_train)[:,1:]\n",
    "    encoded_validation_x = encoding_feature.transform(X_val)[:,1:]\n",
    "    encoded_test_x = encoding_feature.transform(X_test)[:,1:]\n",
    "    _x = np.linspace(-10,10)\n",
    "    \n",
    "    tf.reset_default_graph()\n",
    "    x = tf.placeholder(shape=[None,d],dtype=tf.float32,name='x')\n",
    "    y = tf.placeholder(shape=[None,1],dtype=tf.float32,name='y')\n",
    "    w = tf.Variable(np.random.normal(size=[d,1]),dtype=tf.float32,name='w')\n",
    "    b = tf.Variable(np.zeros([1,1]),dtype=tf.float32,name='b')\n",
    "    cost = tf.reduce_mean(tf.abs(y - (tf.matmul(x,w) + b)))\n",
    "    grad = tf.train.AdamOptimizer(0.05).minimize(cost)\n",
    "    init = tf.global_variables_initializer()\n",
    "    with tf.Session() as sess:\n",
    "        sess.run(init)\n",
    "        for i in range(1000):\n",
    "            sess.run([cost,grad],feed_dict={x: encoded_x, y: y_train})\n",
    "        weight = sess.run(w)\n",
    "        bias = sess.run(b)\n",
    "        train_cost = sess.run(cost,feed_dict={x: encoded_x, y: y_train})\n",
    "        validation_cost = sess.run(cost,feed_dict={x: encoded_validation_x, y: y_val})\n",
    "        test_cost = sess.run(cost,feed_dict={x: encoded_test_x, y: y_test})\n",
    "        print 'degree : ', d\n",
    "        print 'train cost : ' , train_cost\n",
    "        print 'validation cost : ' , validation_cost\n",
    "        print 'test cost : ' , test_cost\n",
    "        if best_validation_cost > validation_cost:\n",
    "            best_dgree = d\n",
    "            best_validation_cost = validation_cost\n",
    "            best_test_cost = test_cost\n",
    "        _y = np.matmul(encoding_feature.transform(_x.reshape(-1,1))[:,1:],weight) + bias\n",
    "        plt.plot(_x,_y)\n",
    "        \n",
    "print '\\n\\nbest_dgree : ',best_dgree\n",
    "print 'best_validation_cost : ',best_validation_cost\n",
    "print 'best_test_cost : ',best_test_cost\n",
    "\n",
    "plt.plot(X_train,y_train,'bo')    \n",
    "plt.plot(data_x,data_y,'r+')\n"
   ]
  },
  {
   "cell_type": "code",
   "execution_count": 120,
   "metadata": {
    "collapsed": true
   },
   "outputs": [],
   "source": [
    "train_test_split?"
   ]
  },
  {
   "cell_type": "code",
   "execution_count": null,
   "metadata": {
    "collapsed": true
   },
   "outputs": [],
   "source": []
  }
 ],
 "metadata": {
  "kernelspec": {
   "display_name": "Python 2",
   "language": "python",
   "name": "python2"
  },
  "language_info": {
   "codemirror_mode": {
    "name": "ipython",
    "version": 2
   },
   "file_extension": ".py",
   "mimetype": "text/x-python",
   "name": "python",
   "nbconvert_exporter": "python",
   "pygments_lexer": "ipython2",
   "version": "2.7.11"
  }
 },
 "nbformat": 4,
 "nbformat_minor": 0
}
