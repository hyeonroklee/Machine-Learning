{
 "cells": [
  {
   "cell_type": "code",
   "execution_count": 38,
   "metadata": {
    "collapsed": false
   },
   "outputs": [],
   "source": [
    "import numpy as np\n",
    "from scipy import stats\n",
    "from sklearn import datasets\n",
    "from theano import function, grad, pp\n",
    "from theano import tensor as T"
   ]
  },
  {
   "cell_type": "code",
   "execution_count": 33,
   "metadata": {
    "collapsed": true
   },
   "outputs": [],
   "source": [
    "data_iris = datasets.load_iris()\n",
    "data_digits = datasets.load_digits()"
   ]
  },
  {
   "cell_type": "code",
   "execution_count": 75,
   "metadata": {
    "collapsed": false
   },
   "outputs": [
    {
     "name": "stdout",
     "output_type": "stream",
     "text": [
      "3.33125567256e-129\n",
      "Ttest_1sampResult(statistic=86.425374617217031, pvalue=3.3312556725563111e-129)\n",
      "0.0\n"
     ]
    }
   ],
   "source": [
    "x = data_iris.data[:,0]\n",
    "n,(smin,smax), sm,sv,ss,sk = stats.describe(x)\n",
    "tt = (sm-0)/np.sqrt(sv/float(n))\n",
    "print stats.t.sf(np.abs(tt),n-1)*2\n",
    "print stats.ttest_1samp(x,0)\n",
    "print stats.norm.sf(np.abs(tt))*2\n"
   ]
  },
  {
   "cell_type": "code",
   "execution_count": null,
   "metadata": {
    "collapsed": true
   },
   "outputs": [],
   "source": [
    "print stats.norm.sf"
   ]
  },
  {
   "cell_type": "code",
   "execution_count": 30,
   "metadata": {
    "collapsed": false
   },
   "outputs": [
    {
     "name": "stdout",
     "output_type": "stream",
     "text": [
      "<class 'theano.tensor.var.TensorVariable'>\n",
      "<class 'theano.compile.function_module.Function'>\n"
     ]
    }
   ],
   "source": [
    "x = T.dscalar('x')\n",
    "s = 1 / (1 + T.exp(-x))\n",
    "s_prime = grad(s,x)\n",
    "f = function([x],s)\n",
    "g = function([x],s_prime)\n",
    "print type(s_prime)\n",
    "print type(g)"
   ]
  }
 ],
 "metadata": {
  "kernelspec": {
   "display_name": "Python 2",
   "language": "python",
   "name": "python2"
  },
  "language_info": {
   "codemirror_mode": {
    "name": "ipython",
    "version": 2
   },
   "file_extension": ".py",
   "mimetype": "text/x-python",
   "name": "python",
   "nbconvert_exporter": "python",
   "pygments_lexer": "ipython2",
   "version": "2.7.11"
  }
 },
 "nbformat": 4,
 "nbformat_minor": 0
}
