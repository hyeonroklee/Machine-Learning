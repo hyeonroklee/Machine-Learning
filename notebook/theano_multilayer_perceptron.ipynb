{
 "cells": [
  {
   "cell_type": "code",
   "execution_count": 2,
   "metadata": {
    "collapsed": true
   },
   "outputs": [],
   "source": [
    "import numpy as np\n",
    "\n",
    "import cPickle,gzip\n",
    "import matplotlib.pyplot as plt\n",
    "\n",
    "import theano\n",
    "from theano import tensor as T\n",
    "from theano import function,grad,pp,shared"
   ]
  },
  {
   "cell_type": "code",
   "execution_count": 3,
   "metadata": {
    "collapsed": false
   },
   "outputs": [],
   "source": [
    "f = gzip.open('mnist.pkl.gz','rb')\n",
    "train_set,valid_set,test_set = cPickle.load(f)\n",
    "f.close()\n",
    "def share_dataset(data_xy):\n",
    "    data_x,data_y = data_xy\n",
    "    shared_x = shared(np.array(data_x,dtype=theano.config.floatX))\n",
    "    shared_y = shared(np.array(data_y,dtype=theano.config.floatX))\n",
    "    return shared_x,T.cast(shared_y,'int32')\n",
    "\n",
    "train_set_x,train_set_y = share_dataset(train_set)\n",
    "valid_set_x,valid_set_y = share_dataset(valid_set)\n",
    "test_set_x,test_set_y = share_dataset(test_set)"
   ]
  },
  {
   "cell_type": "code",
   "execution_count": 4,
   "metadata": {
    "collapsed": true
   },
   "outputs": [],
   "source": [
    "class LogisticRegression(object):\n",
    "    def __init__(self,x,n_in,n_out):\n",
    "        self.W = theano.shared(\n",
    "            value=np.zeros(\n",
    "                (n_in,n_out),\n",
    "                dtype=theano.config.floatX\n",
    "            ),\n",
    "            name='W',\n",
    "            borrow=True\n",
    "        )\n",
    "        self.b = theano.shared(\n",
    "            value=np.zeros(\n",
    "                (n_out,),\n",
    "                dtype=theano.config.floatX\n",
    "            ),\n",
    "            name='b',\n",
    "            borrow=True\n",
    "        )\n",
    "        self.p_y_given_x = T.nnet.softmax(T.dot(x,self.W)+self.b)\n",
    "        self.y_pred = T.argmax(self.p_y_given_x,axis=1)\n",
    "        self.params = [ self.W, self.b ]\n",
    "        self.x = x\n",
    "    \n",
    "    def negative_log_likelihood(self,y):\n",
    "        return -T.mean(T.log(self.p_y_given_x)[T.arange(y.shape[0]),y])\n",
    "    \n",
    "    def errors(self,y):\n",
    "        return T.mean(T.neq(self.y_pred,y))"
   ]
  },
  {
   "cell_type": "code",
   "execution_count": 5,
   "metadata": {
    "collapsed": false
   },
   "outputs": [],
   "source": [
    "class HiddenLayer(object):\n",
    "    def __init__(self,x,n_in,n_out):\n",
    "        self.x = x\n",
    "        W_values = np.asarray(\n",
    "                np.random.uniform(\n",
    "                    low=-np.sqrt(6./(n_in + n_out)),\n",
    "                    high=np.sqrt(6./(n_in + n_out)),\n",
    "                    size=(n_in,n_out)\n",
    "                ),\n",
    "                dtype=theano.config.floatX\n",
    "        )\n",
    "        W = shared(value=W_values, name='W',borrow=True)\n",
    "        b_values = np.zeros((n_out,),dtype=theano.config.floatX)\n",
    "        b = shared(value=b_values,name='b',borrow=True)\n",
    "        self.W = W\n",
    "        self.b = b\n",
    "        self.output = T.tanh(T.dot(x,self.W) + self.b)\n",
    "        self.params = [ self.W, self.b ]\n",
    "    \n",
    "class MLP(object):\n",
    "    def __init__(self,x,n_in,n_hidden,n_out):\n",
    "        self.hidden_layer = HiddenLayer(\n",
    "            x=x,n_in=n_in,n_out=n_hidden)\n",
    "        self.logistic_regression_layer = LogisticRegression(\n",
    "            x=self.hidden_layer.output,\n",
    "            n_in=n_hidden,n_out=n_out)\n",
    "        self.L1 = ( \n",
    "            abs(self.hidden_layer.W).sum() +\n",
    "            abs(self.logistic_regression_layer.W).sum()\n",
    "        )\n",
    "        \n",
    "        self.L2_sqr = (\n",
    "            abs(self.hidden_layer.W ** 2).sum() +\n",
    "            abs(self.logistic_regression_layer.W ** 2).sum()\n",
    "        )\n",
    "        \n",
    "        self.negative_log_likelihood = ( \n",
    "            self.logistic_regression_layer.negative_log_likelihood\n",
    "        )\n",
    "        self.errors = self.logistic_regression_layer.errors\n",
    "        \n",
    "        self.params = self.hidden_layer.params + self.logistic_regression_layer.params\n",
    "        self.x = x"
   ]
  },
  {
   "cell_type": "code",
   "execution_count": 16,
   "metadata": {
    "collapsed": false
   },
   "outputs": [],
   "source": [
    "\n",
    "alpha=0.1\n",
    "batch_size=600\n",
    "n_epochs=1000\n",
    "n_hidden=500\n",
    "L1_reg = 0.0\n",
    "L2_reg = 0.0001\n",
    "    \n",
    "n_train_batches = train_set_x.get_value(borrow=True).shape[0] // batch_size\n",
    "n_valid_batches = valid_set_x.get_value(borrow=True).shape[0] // batch_size\n",
    "n_test_batches = test_set_x.get_value(borrow=True).shape[0] // batch_size\n",
    "\n",
    "i = T.lscalar('i')\n",
    "x = T.matrix('x')\n",
    "y = T.ivector('y')\n",
    "    \n",
    "classifier = MLP(x=x,n_in=28*28,n_hidden=500,n_out=10)\n",
    "cost = (\n",
    "    classifier.negative_log_likelihood(y)\n",
    "    + L1_reg * classifier.L1\n",
    "    + L2_reg * classifier.L2_sqr\n",
    ")\n",
    "    \n",
    "test_model = function(\n",
    "    inputs=[i],\n",
    "    outputs=classifier.errors(y),\n",
    "    givens=[\n",
    "        (x, test_set_x[i*batch_size:(i+1)*batch_size]),\n",
    "        (y, test_set_y[i*batch_size:(i+1)*batch_size])\n",
    "    ]\n",
    ")\n",
    "    \n",
    "gparams = [T.grad(cost, param) for param in classifier.params]\n",
    "updates = [\n",
    "    (param, param - alpha * gparam)\n",
    "    for param, gparam in zip(classifier.params, gparams)\n",
    "]\n",
    "    \n",
    "train_model = theano.function(\n",
    "    inputs=[i],\n",
    "    outputs=cost,\n",
    "    updates=updates,\n",
    "    givens={\n",
    "        x: train_set_x[i * batch_size: (i + 1) * batch_size],\n",
    "        y: train_set_y[i * batch_size: (i + 1) * batch_size]\n",
    "    }\n",
    ")"
   ]
  },
  {
   "cell_type": "code",
   "execution_count": 17,
   "metadata": {
    "collapsed": false
   },
   "outputs": [
    {
     "name": "stdout",
     "output_type": "stream",
     "text": [
      "0.902395833333\n",
      "0.0783333333333\n"
     ]
    }
   ],
   "source": [
    "error_rates = []\n",
    "for i in range(n_test_batches):\n",
    "    error_rates.append(test_model(i))\n",
    "print np.mean(error_rates)\n",
    "\n",
    "for epoch in range(10):\n",
    "    costs = [] \n",
    "    for i in range(n_train_batches):\n",
    "        costs.append(train_model(i))\n",
    "        \n",
    "error_rates = []\n",
    "for i in range(n_test_batches):\n",
    "    error_rates.append(test_model(i))\n",
    "print np.mean(error_rates)\n"
   ]
  },
  {
   "cell_type": "code",
   "execution_count": null,
   "metadata": {
    "collapsed": true
   },
   "outputs": [],
   "source": []
  }
 ],
 "metadata": {
  "kernelspec": {
   "display_name": "Python 2",
   "language": "python",
   "name": "python2"
  },
  "language_info": {
   "codemirror_mode": {
    "name": "ipython",
    "version": 2
   },
   "file_extension": ".py",
   "mimetype": "text/x-python",
   "name": "python",
   "nbconvert_exporter": "python",
   "pygments_lexer": "ipython2",
   "version": "2.7.11"
  }
 },
 "nbformat": 4,
 "nbformat_minor": 0
}
