{
 "cells": [
  {
   "cell_type": "code",
   "execution_count": 35,
   "metadata": {
    "collapsed": true
   },
   "outputs": [],
   "source": [
    "%matplotlib inline\n",
    "\n",
    "import cPickle, gzip\n",
    "\n",
    "import numpy as np\n",
    "import matplotlib.pyplot as plt\n",
    "\n",
    "import theano\n",
    "from theano import shared, pp, grad, function\n",
    "from theano import tensor as T"
   ]
  },
  {
   "cell_type": "code",
   "execution_count": 36,
   "metadata": {
    "collapsed": true
   },
   "outputs": [],
   "source": [
    "f = gzip.open('mnist.pkl.gz','rb')\n",
    "train_set,valid_set,test_set = cPickle.load(f)\n",
    "f.close()"
   ]
  },
  {
   "cell_type": "code",
   "execution_count": 37,
   "metadata": {
    "collapsed": false
   },
   "outputs": [],
   "source": [
    "def share_dataset(data_xy):\n",
    "    data_x,data_y = data_xy\n",
    "    shared_x = shared(np.array(data_x,dtype=theano.config.floatX))\n",
    "    shared_y = shared(np.array(data_y,dtype=theano.config.floatX))\n",
    "    return shared_x,T.cast(shared_y,'int32')\n",
    "\n",
    "train_set_x,train_set_y = share_dataset(train_set)\n",
    "valid_set_x,valid_set_y = share_dataset(valid_set)\n",
    "test_set_x,test_set_y = share_dataset(test_set)"
   ]
  },
  {
   "cell_type": "code",
   "execution_count": 54,
   "metadata": {
    "collapsed": false
   },
   "outputs": [],
   "source": [
    "class LogisticRegression(object):\n",
    "    def __init__(self,x,n_in,n_out):\n",
    "        self.W = theano.shared(\n",
    "            value=np.zeros(\n",
    "                (n_in,n_out),\n",
    "                dtype=theano.config.floatX\n",
    "            ),\n",
    "            name='W',\n",
    "            borrow=True\n",
    "        )\n",
    "        self.b = theano.shared(\n",
    "            value=np.zeros(\n",
    "                (n_out,),\n",
    "                dtype=theano.config.floatX\n",
    "            ),\n",
    "            name='b',\n",
    "            borrow=True\n",
    "        )\n",
    "        self.p_y_given_x = T.nnet.softmax(T.dot(x,self.W)+self.b)\n",
    "        self.y_pred = T.argmax(self.p_y_given_x,axis=1)\n",
    "        self.params = [ self.W, self.b ]\n",
    "        self.x = x\n",
    "    \n",
    "    def negative_log_likehood(self,y):\n",
    "        return -T.mean(T.log(self.p_y_given_x)[T.arange(y.shape[0]),y])\n",
    "    \n",
    "    def errors(self,y):\n",
    "        return T.mean(T.neq(self.y_pred,y))"
   ]
  },
  {
   "cell_type": "code",
   "execution_count": 82,
   "metadata": {
    "collapsed": false
   },
   "outputs": [],
   "source": [
    "batch_size = 500\n",
    "n_train_batchs = train_set_x.get_value(borrow=True).shape[0]/batch_size\n",
    "n_valid_batchs = valid_set_x.get_value(borrow=True).shape[0]/batch_size\n",
    "n_test_batchs = test_set_x.get_value(borrow=True).shape[0]/batch_size\n",
    "\n",
    "i = T.lscalar('i')\n",
    "x = T.matrix('x')\n",
    "y = T.ivector('y')\n",
    "\n",
    "classifier = LogisticRegression(x=x,n_in=28*28,n_out=10)\n",
    "cost = classifier.negative_log_likehood(y)\n",
    "\n",
    "test_model = function(\n",
    "    inputs=[i],\n",
    "    outputs=[classifier.errors(y)],\n",
    "    givens=[\n",
    "        (x, test_set_x[i*batch_size:(i+1)*batch_size]),\n",
    "        (y, test_set_y[i*batch_size:(i+1)*batch_size])\n",
    "    ]\n",
    ")\n",
    "\n",
    "valid_model = function(\n",
    "    inputs=[i],\n",
    "    outputs=[classifier.errors(y)],\n",
    "    givens=[\n",
    "        (x, valid_set_x[i*batch_size:(i+1)*batch_size]),\n",
    "        (y, valid_set_y[i*batch_size:(i+1)*batch_size])\n",
    "    ]\n",
    ")\n",
    "\n",
    "alpha = 0.5\n",
    "g_W = grad(cost=cost,wrt=classifier.W)\n",
    "g_b = grad(cost=cost,wrt=classifier.b)\n",
    "\n",
    "updates = [\n",
    "    (classifier.W, classifier.W - alpha*g_W),\n",
    "    (classifier.b, classifier.b - alpha*g_b),\n",
    "]\n",
    "\n",
    "train_model = function(\n",
    "    inputs=[i],\n",
    "    outputs=[cost],\n",
    "    updates=updates,\n",
    "    givens=[\n",
    "        (x, train_set_x[i*batch_size:(i+1)*batch_size]),\n",
    "        (y, train_set_y[i*batch_size:(i+1)*batch_size])\n",
    "    ]\n",
    ")"
   ]
  },
  {
   "cell_type": "code",
   "execution_count": 83,
   "metadata": {
    "collapsed": false
   },
   "outputs": [
    {
     "name": "stdout",
     "output_type": "stream",
     "text": [
      "[array(0.916)]\n",
      "[array(0.06)]\n"
     ]
    }
   ],
   "source": [
    "print test_model(0)\n",
    "for epoch in range(1000):\n",
    "    costs = [] \n",
    "    for i in range(n_train_batchs):\n",
    "        costs.append(train_model(i))\n",
    "#     print np.mean(costs)\n",
    "print test_model(0)"
   ]
  },
  {
   "cell_type": "code",
   "execution_count": null,
   "metadata": {
    "collapsed": true
   },
   "outputs": [],
   "source": []
  }
 ],
 "metadata": {
  "kernelspec": {
   "display_name": "Python 2",
   "language": "python",
   "name": "python2"
  },
  "language_info": {
   "codemirror_mode": {
    "name": "ipython",
    "version": 2
   },
   "file_extension": ".py",
   "mimetype": "text/x-python",
   "name": "python",
   "nbconvert_exporter": "python",
   "pygments_lexer": "ipython2",
   "version": "2.7.11"
  }
 },
 "nbformat": 4,
 "nbformat_minor": 0
}
