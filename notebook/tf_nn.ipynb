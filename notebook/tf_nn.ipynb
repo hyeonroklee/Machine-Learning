{
 "cells": [
  {
   "cell_type": "code",
   "execution_count": 1,
   "metadata": {
    "collapsed": true
   },
   "outputs": [],
   "source": [
    "import numpy as np\n",
    "import tensorflow as tf\n",
    "from tensorflow.examples.tutorials.mnist import input_data"
   ]
  },
  {
   "cell_type": "code",
   "execution_count": 2,
   "metadata": {
    "collapsed": false
   },
   "outputs": [
    {
     "name": "stdout",
     "output_type": "stream",
     "text": [
      "Extracting MNIST_data/train-images-idx3-ubyte.gz\n",
      "Extracting MNIST_data/train-labels-idx1-ubyte.gz\n",
      "Extracting MNIST_data/t10k-images-idx3-ubyte.gz\n",
      "Extracting MNIST_data/t10k-labels-idx1-ubyte.gz\n"
     ]
    }
   ],
   "source": [
    "mnist = input_data.read_data_sets('MNIST_data', one_hot=True)"
   ]
  },
  {
   "cell_type": "code",
   "execution_count": 18,
   "metadata": {
    "collapsed": false
   },
   "outputs": [
    {
     "name": "stdout",
     "output_type": "stream",
     "text": [
      "0.103\n",
      "0.914\n",
      "0.928\n",
      "0.929\n",
      "0.942\n",
      "0.952\n",
      "0.961\n",
      "0.953\n",
      "0.957\n",
      "0.945\n",
      "0.957\n",
      "0.966\n",
      "0.949\n",
      "0.957\n",
      "0.967\n",
      "0.956\n",
      "0.965\n",
      "0.961\n",
      "0.96\n",
      "0.974\n"
     ]
    }
   ],
   "source": [
    "x_size = mnist.train.images.shape[1]\n",
    "y_size = mnist.train.labels.shape[1]\n",
    "h_size = 20\n",
    "tf.reset_default_graph()\n",
    "\n",
    "x = tf.placeholder(shape=[None,x_size],dtype=tf.float32,name='x')\n",
    "y = tf.placeholder(shape=[None,y_size],dtype=tf.float32,name='y')\n",
    "w1 = tf.Variable(np.random.normal(loc=0.0,scale=0.01,size=[x_size,h_size]),\n",
    "                dtype=tf.float32,name='w1')\n",
    "b1 = tf.Variable(np.zeros(h_size),dtype=tf.float32,name='b1')\n",
    "w2 = tf.Variable(np.random.normal(loc=0.0,scale=0.01,size=[h_size,y_size]),\n",
    "                dtype=tf.float32,name='w2')\n",
    "b2 = tf.Variable(np.zeros(y_size),dtype=tf.float32,name='b2')\n",
    "\n",
    "y_hat = tf.nn.softmax(tf.matmul(tf.nn.sigmoid(tf.matmul(x,w1) + b1),w2)+b2)\n",
    "cost = tf.reduce_mean(-tf.reduce_sum(y*tf.log(y_hat),1))\n",
    "grad = tf.train.GradientDescentOptimizer(0.5).minimize(cost)\n",
    "acc =  tf.reduce_mean(tf.cast(tf.equal(tf.argmax(y,1) , tf.argmax(y_hat,1)),tf.float32))\n",
    "\n",
    "init = tf.global_variables_initializer()\n",
    "with tf.Session() as sess:\n",
    "    sess.run(init)\n",
    "    for i in range(10000):\n",
    "        train_x, train_y = mnist.train.next_batch(1000)\n",
    "        c,a,_ = sess.run([cost,acc,grad],feed_dict={x:train_x,y:train_y})\n",
    "        if i % 500 == 0:\n",
    "            print a\n"
   ]
  },
  {
   "cell_type": "code",
   "execution_count": null,
   "metadata": {
    "collapsed": true
   },
   "outputs": [],
   "source": []
  }
 ],
 "metadata": {
  "kernelspec": {
   "display_name": "Python 2",
   "language": "python",
   "name": "python2"
  },
  "language_info": {
   "codemirror_mode": {
    "name": "ipython",
    "version": 2
   },
   "file_extension": ".py",
   "mimetype": "text/x-python",
   "name": "python",
   "nbconvert_exporter": "python",
   "pygments_lexer": "ipython2",
   "version": "2.7.11"
  }
 },
 "nbformat": 4,
 "nbformat_minor": 0
}
