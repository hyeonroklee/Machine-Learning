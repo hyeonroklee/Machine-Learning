{
 "cells": [
  {
   "cell_type": "code",
   "execution_count": 1,
   "metadata": {
    "collapsed": true
   },
   "outputs": [],
   "source": [
    "%matplotlib inline\n",
    "\n",
    "import numpy as np\n",
    "import tensorflow as tf\n",
    "import gym\n",
    "import matplotlib.pyplot as plt"
   ]
  },
  {
   "cell_type": "code",
   "execution_count": 3,
   "metadata": {
    "collapsed": false
   },
   "outputs": [
    {
     "name": "stderr",
     "output_type": "stream",
     "text": [
      "[2017-07-12 16:42:43,730] Making new env: FrozenLake-v0\n"
     ]
    }
   ],
   "source": [
    "#gym.envs.registry.all()\n",
    "# env = gym.make('CartPole-v0')\n",
    "env = gym.make('FrozenLake-v0')"
   ]
  },
  {
   "cell_type": "code",
   "execution_count": 13,
   "metadata": {
    "collapsed": false
   },
   "outputs": [
    {
     "data": {
      "image/png": "[encoded data removed]",
      "text/plain": [
       "<matplotlib.figure.Figure at 0x121302810>"
      ]
     },
     "metadata": {},
     "output_type": "display_data"
    },
    {
     "data": {
      "image/png": "[encoded data removed]",
      "text/plain": [
       "<matplotlib.figure.Figure at 0x121889f90>"
      ]
     },
     "metadata": {},
     "output_type": "display_data"
    }
   ],
   "source": [
    "lr = 0.05\n",
    "e = 0.01\n",
    "hidden_size = 4\n",
    "discount_rate = 0.5\n",
    "epoch = 2000\n",
    "num_actions = env.action_space.n\n",
    "num_states = env.observation_space.n\n",
    "\n",
    "tf.reset_default_graph()\n",
    "\n",
    "# state\n",
    "target_q_value = tf.placeholder(dtype=tf.float32,shape=[None,num_actions])\n",
    "s = tf.placeholder(dtype=tf.float32,shape=[None,num_states])\n",
    "w1 = tf.Variable(tf.random_normal((num_states,hidden_size)))\n",
    "b1 = tf.Variable(tf.zeros((1,hidden_size)))\n",
    "w2 = tf.Variable(tf.random_normal((hidden_size,num_actions)))\n",
    "b2 = tf.Variable(tf.zeros((1,num_actions)))\n",
    "\n",
    "q_value = tf.matmul(tf.nn.relu(tf.matmul(s,w1) + b1),w2) + b2\n",
    "out = tf.nn.softmax(tf.nn.sigmoid(q_value))\n",
    "greedy_action = tf.argmax(out,axis=1)\n",
    "\n",
    "cost = tf.reduce_mean(tf.square(q_value - target_q_value))\n",
    "grad = tf.train.AdamOptimizer(lr).minimize(cost)\n",
    "\n",
    "init= tf.global_variables_initializer()\n",
    "with tf.Session() as sess:\n",
    "    sum_rewards_list = []\n",
    "    costs = []\n",
    "    sess.run(init)\n",
    "    for i in range(epoch):\n",
    "        s1 = env.reset()\n",
    "        done = False\n",
    "        sum_rewards = 0\n",
    "        sum_cost = 0\n",
    "        while not done:\n",
    "            # choose a greedy action, get current state's q-value\n",
    "            a,q1 = sess.run([greedy_action,q_value],{s:np.identity(16)[s1:s1+1]})\n",
    "\n",
    "            # e~greedy\n",
    "            if np.random.rand(1) < e:\n",
    "                a[0] = env.action_space.sample()\n",
    "            s2,r,done,_ = env.step(a[0])\n",
    "\n",
    "            # get next state's q-value\n",
    "            q2 = sess.run(q_value,{s:np.identity(16)[s2:s2+1]})\n",
    "\n",
    "            maxQ2 = np.max(q2) # off-policy\n",
    "            target = q1\n",
    "            target[0,a[0]] = r + discount_rate*maxQ2\n",
    "\n",
    "            c,_ = sess.run([cost,grad],{s:np.identity(16)[s1:s1+1],target_q_value:target})\n",
    "            sum_rewards += r\n",
    "            sum_cost += c\n",
    "            s1 = s2\n",
    "        sum_rewards_list.append(sum_rewards)\n",
    "        costs.append(sum_cost)\n",
    "    plt.plot(sum_rewards_list)\n",
    "    plt.show()\n",
    "    plt.plot(costs)\n",
    "    plt.show()"
   ]
  }
 ],
 "metadata": {
  "kernelspec": {
   "display_name": "Python 2",
   "language": "python",
   "name": "python2"
  },
  "language_info": {
   "codemirror_mode": {
    "name": "ipython",
    "version": 2
   },
   "file_extension": ".py",
   "mimetype": "text/x-python",
   "name": "python",
   "nbconvert_exporter": "python",
   "pygments_lexer": "ipython2",
   "version": "2.7.13"
  }
 },
 "nbformat": 4,
 "nbformat_minor": 0
}
