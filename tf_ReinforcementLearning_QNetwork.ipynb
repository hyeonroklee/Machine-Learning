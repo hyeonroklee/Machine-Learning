{
 "cells": [
  {
   "cell_type": "code",
   "execution_count": 2,
   "metadata": {
    "collapsed": true
   },
   "outputs": [],
   "source": [
    "%matplotlib inline\n",
    "\n",
    "import numpy as np\n",
    "import tensorflow as tf\n",
    "import gym\n",
    "import matplotlib.pyplot as plt"
   ]
  },
  {
   "cell_type": "code",
   "execution_count": 3,
   "metadata": {
    "collapsed": false
   },
   "outputs": [
    {
     "name": "stderr",
     "output_type": "stream",
     "text": [
      "INFO:gym.envs.registration:Making new env: CartPole-v0\n",
      "[2017-07-11 21:37:29,341] Making new env: CartPole-v0\n"
     ]
    }
   ],
   "source": [
    "env = gym.make('CartPole-v0')"
   ]
  },
  {
   "cell_type": "code",
   "execution_count": 33,
   "metadata": {
    "collapsed": false
   },
   "outputs": [
    {
     "data": {
      "image/png": "[encoded data removed]",
      "text/plain": [
       "<matplotlib.figure.Figure at 0x10f600e10>"
      ]
     },
     "metadata": {},
     "output_type": "display_data"
    },
    {
     "data": {
      "image/png": "[encoded data removed]",
      "text/plain": [
       "<matplotlib.figure.Figure at 0x10f708e10>"
      ]
     },
     "metadata": {},
     "output_type": "display_data"
    }
   ],
   "source": [
    "lr = 0.05\n",
    "e = 0.01\n",
    "hidden_size = 4\n",
    "discount_rate = 0.5\n",
    "epoch = 2000\n",
    "\n",
    "tf.reset_default_graph()\n",
    "\n",
    "# state\n",
    "target_q_value = tf.placeholder(dtype=tf.float32,shape=[None,2])\n",
    "s = tf.placeholder(dtype=tf.float32,shape=[None,4])\n",
    "w1 = tf.Variable(tf.random_normal((4,hidden_size)))\n",
    "b1 = tf.Variable(tf.zeros((1,hidden_size)))\n",
    "w2 = tf.Variable(tf.random_normal((hidden_size,2)))\n",
    "b2 = tf.Variable(tf.zeros((1,2)))\n",
    "\n",
    "q_value = tf.matmul(tf.nn.relu(tf.matmul(s,w1) + b1),w2) + b2\n",
    "out = tf.nn.softmax(tf.nn.sigmoid(q_value))\n",
    "greedy_action = tf.argmax(out,axis=1)\n",
    "\n",
    "cost = tf.reduce_mean(tf.square(q_value - target_q_value))\n",
    "grad = tf.train.AdamOptimizer(lr).minimize(cost)\n",
    "\n",
    "init= tf.global_variables_initializer()\n",
    "with tf.Session() as sess:\n",
    "    sum_rewards_list = []\n",
    "    costs = []\n",
    "    sess.run(init)\n",
    "    for i in range(epoch):\n",
    "        s1 = env.reset()\n",
    "        done = False\n",
    "        sum_rewards = 0\n",
    "        sum_cost = 0\n",
    "        while not done:\n",
    "            # choose a greedy action, get current state's q-value\n",
    "            a,q1 = sess.run([greedy_action,q_value],{s:s1.reshape(1,4)})\n",
    "\n",
    "            # e~greedy\n",
    "            if np.random.rand(1) < e:\n",
    "                a[0] = env.action_space.sample()\n",
    "            s2,r,done,_ = env.step(a[0])\n",
    "\n",
    "            # get next state's q-value\n",
    "            q2 = sess.run(q_value,{s:s2.reshape(1,4)})\n",
    "\n",
    "            maxQ2 = np.max(q2) # off-policy\n",
    "            target = q1\n",
    "            target[0,a[0]] = r + discount_rate*maxQ2\n",
    "\n",
    "            c,_ = sess.run([cost,grad],{s:s1.reshape(1,4),target_q_value:target})\n",
    "            sum_rewards += r\n",
    "            sum_cost += c\n",
    "            s1 = s2\n",
    "        sum_rewards_list.append(sum_rewards)\n",
    "        costs.append(sum_cost)\n",
    "    plt.plot(sum_rewards_list)\n",
    "    plt.show()\n",
    "    plt.plot(costs)\n",
    "    plt.show()"
   ]
  },
  {
   "cell_type": "code",
   "execution_count": null,
   "metadata": {
    "collapsed": true
   },
   "outputs": [],
   "source": []
  }
 ],
 "metadata": {
  "kernelspec": {
   "display_name": "Python 2",
   "language": "python",
   "name": "python2"
  },
  "language_info": {
   "codemirror_mode": {
    "name": "ipython",
    "version": 2
   },
   "file_extension": ".py",
   "mimetype": "text/x-python",
   "name": "python",
   "nbconvert_exporter": "python",
   "pygments_lexer": "ipython2",
   "version": "2.7.11"
  }
 },
 "nbformat": 4,
 "nbformat_minor": 0
}
