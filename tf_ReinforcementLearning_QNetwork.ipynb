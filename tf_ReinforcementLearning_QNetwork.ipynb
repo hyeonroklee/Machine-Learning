{
 "cells": [
  {
   "cell_type": "code",
   "execution_count": 1,
   "metadata": {
    "collapsed": true
   },
   "outputs": [],
   "source": [
    "%matplotlib inline\n",
    "\n",
    "import numpy as np\n",
    "import tensorflow as tf\n",
    "import gym\n",
    "import matplotlib.pyplot as plt"
   ]
  },
  {
   "cell_type": "code",
   "execution_count": 6,
   "metadata": {
    "collapsed": false
   },
   "outputs": [
    {
     "name": "stderr",
     "output_type": "stream",
     "text": [
      "[2017-07-11 17:10:05,024] Making new env: CartPole-v0\n"
     ]
    }
   ],
   "source": [
    "env = gym.make('CartPole-v0')"
   ]
  },
  {
   "cell_type": "code",
   "execution_count": 27,
   "metadata": {
    "collapsed": false
   },
   "outputs": [
    {
     "name": "stdout",
     "output_type": "stream",
     "text": [
      "[1]\n",
      "[1]\n",
      "[1]\n",
      "[1]\n",
      "[1]\n",
      "[1]\n",
      "[1]\n",
      "[1]\n",
      "[1]\n",
      "[1]\n",
      "[1]\n",
      "[1]\n",
      "[1]\n",
      "[1]\n",
      "[1]\n",
      "[1]\n",
      "[1]\n"
     ]
    }
   ],
   "source": [
    "hidden_size = 10\n",
    "\n",
    "tf.reset_default_graph()\n",
    "\n",
    "x = tf.placeholder(dtype=tf.float32,shape=[None,4])\n",
    "y = tf.placeholder(dtype=tf.float32,shape=[None,2])\n",
    "r = tf.placeholder(dtype=tf.float32,shape=[None,1])\n",
    "w1 = tf.Variable(tf.random_normal((4,hidden_size)))\n",
    "b1 = tf.Variable(tf.zeros((1,hidden_size)))\n",
    "w2 = tf.Variable(tf.random_normal((hidden_size,2)))\n",
    "b2 = tf.Variable(tf.zeros((1,2)))\n",
    "\n",
    "layer1_out = tf.nn.relu(tf.matmul(x,w1) + b1)\n",
    "q_out = tf.matmul(layer1_out,w2) + b2\n",
    "final_out = tf.nn.softmax(tf.nn.sigmoid(q_out))\n",
    "greedy_action = tf.argmax(final_out,axis=1)\n",
    "\n",
    "init= tf.global_variables_initializer()\n",
    "with tf.Session() as sess:\n",
    "    sess.run(init)\n",
    "    s1 = env.reset()\n",
    "    done = False\n",
    "    while not done:\n",
    "        # e~greedy\n",
    "        # sess.run(greedy_action,{x:n_s.reshape(1,4)})\n",
    "        # get current q value\n",
    "        a = np.random.randint(env.action_space.n)\n",
    "        s2,r,done,_ = env.step(a)\n",
    "        # get maximum next q value (off-policy)\n",
    "        print sess.run(greedy_action,{x:n_s.reshape(1,4)})\n",
    "        # update the model by temp-diff between current q and next q\n",
    "        s1 = s1"
   ]
  }
 ],
 "metadata": {
  "kernelspec": {
   "display_name": "Python 2",
   "language": "python",
   "name": "python2"
  },
  "language_info": {
   "codemirror_mode": {
    "name": "ipython",
    "version": 2
   },
   "file_extension": ".py",
   "mimetype": "text/x-python",
   "name": "python",
   "nbconvert_exporter": "python",
   "pygments_lexer": "ipython2",
   "version": "2.7.13"
  }
 },
 "nbformat": 4,
 "nbformat_minor": 0
}
