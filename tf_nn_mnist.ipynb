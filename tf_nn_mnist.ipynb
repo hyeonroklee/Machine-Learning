{
 "cells": [
  {
   "cell_type": "code",
   "execution_count": 1,
   "metadata": {
    "collapsed": true
   },
   "outputs": [],
   "source": [
    "%matplotlib inline\n",
    "\n",
    "import numpy as np\n",
    "import matplotlib.pyplot as plt\n",
    "import tensorflow as tf\n",
    "from tensorflow.examples.tutorials.mnist import input_data"
   ]
  },
  {
   "cell_type": "code",
   "execution_count": 2,
   "metadata": {
    "collapsed": false
   },
   "outputs": [
    {
     "name": "stdout",
     "output_type": "stream",
     "text": [
      "Successfully downloaded train-images-idx3-ubyte.gz 9912422 bytes.\n",
      "Extracting MNIST_data/train-images-idx3-ubyte.gz\n",
      "Successfully downloaded train-labels-idx1-ubyte.gz 28881 bytes.\n",
      "Extracting MNIST_data/train-labels-idx1-ubyte.gz\n",
      "Successfully downloaded t10k-images-idx3-ubyte.gz 1648877 bytes.\n",
      "Extracting MNIST_data/t10k-images-idx3-ubyte.gz\n",
      "Successfully downloaded t10k-labels-idx1-ubyte.gz 4542 bytes.\n",
      "Extracting MNIST_data/t10k-labels-idx1-ubyte.gz\n"
     ]
    }
   ],
   "source": [
    "############################\n",
    "# generate data\n",
    "############################\n",
    "mnist_data = input_data.read_data_sets('MNIST_data', one_hot=True)"
   ]
  },
  {
   "cell_type": "code",
   "execution_count": 4,
   "metadata": {
    "collapsed": false
   },
   "outputs": [
    {
     "name": "stdout",
     "output_type": "stream",
     "text": [
      "\n"
     ]
    }
   ],
   "source": [
    "#############################\n",
    "# construct the model\n",
    "#############################\n",
    "x_size = mnist_data.train.images.shape[1]\n",
    "y_size = mnist_data.train.labels.shape[1]\n",
    "h_size = 20\n",
    "tf.reset_default_graph()\n",
    "\n",
    "x = tf.placeholder(shape=[None,x_size],dtype=tf.float32,name='x')\n",
    "y = tf.placeholder(shape=[None,y_size],dtype=tf.float32,name='y')\n",
    "w1 = tf.Variable(np.random.normal(loc=0.0,scale=0.01,size=[x_size,h_size]),\n",
    "                dtype=tf.float32,name='w1')\n",
    "b1 = tf.Variable(np.zeros(h_size),dtype=tf.float32,name='b1')\n",
    "w2 = tf.Variable(np.random.normal(loc=0.0,scale=0.01,size=[h_size,y_size]),\n",
    "                dtype=tf.float32,name='w2')\n",
    "b2 = tf.Variable(np.zeros(y_size),dtype=tf.float32,name='b2')\n",
    "\n",
    "y_hat = tf.nn.softmax(tf.matmul(tf.nn.sigmoid(tf.matmul(x,w1) + b1),w2)+b2)\n",
    "cost = tf.reduce_mean(-tf.reduce_sum(y*tf.log(y_hat),1))\n",
    "grad = tf.train.GradientDescentOptimizer(0.5).minimize(cost)\n",
    "acc =  tf.reduce_mean(tf.cast(tf.equal(tf.argmax(y,1) , tf.argmax(y_hat,1)),tf.float32))"
   ]
  },
  {
   "cell_type": "code",
   "execution_count": 9,
   "metadata": {
    "collapsed": false
   },
   "outputs": [
    {
     "name": "stdout",
     "output_type": "stream",
     "text": [
      " 0  training... cost :  2.30281  accuracy :  0.101\n",
      "500  training... cost :  0.349406  accuracy :  0.903\n",
      "1000  training... cost :  0.262656  accuracy :  0.926\n",
      "1500  training... cost :  0.218335  accuracy :  0.945\n",
      "2000  training... cost :  0.225647  accuracy :  0.936\n",
      "2500  training... cost :  0.200928  accuracy :  0.947\n",
      "3000  training... cost :  0.16399  accuracy :  0.948\n",
      "3500  training... cost :  0.178189  accuracy :  0.951\n",
      "4000  training... cost :  0.176835  accuracy :  0.952\n",
      "4500  training... cost :  0.138638  accuracy :  0.963\n",
      "5000  training... cost :  0.154001  accuracy :  0.96\n",
      "5500  training... cost :  0.125589  accuracy :  0.962\n",
      "6000  training... cost :  0.129279  accuracy :  0.969\n",
      "6500  training... cost :  0.138788  accuracy :  0.965\n",
      "7000  training... cost :  0.126564  accuracy :  0.962\n",
      "7500  training... cost :  0.123809  accuracy :  0.966\n",
      "8000  training... cost :  0.132962  accuracy :  0.962\n",
      "8500  training... cost :  0.122545  accuracy :  0.963\n",
      "9000  training... cost :  0.104784  accuracy :  0.973\n",
      "9500  training... cost :  0.138981  accuracy :  0.961\n",
      "final test accuracy :  0.9587\n"
     ]
    }
   ],
   "source": [
    "#############################\n",
    "# train & test the model\n",
    "#############################\n",
    "epoches = 10000\n",
    "batch_size = 1000\n",
    "init = tf.global_variables_initializer()\n",
    "with tf.Session() as sess:\n",
    "    sess.run(init)\n",
    "    for i in range(epoches):\n",
    "        train_x, train_y = mnist_data.train.next_batch(batch_size)\n",
    "        c,a,_ = sess.run([cost,acc,grad],feed_dict={x:train_x,y:train_y})\n",
    "        if i % 500 == 0:\n",
    "            print i,' training... cost : ', c , ' accuracy : ', a\n",
    "    \n",
    "    print 'final test accuracy : ',sess.run(acc,{x: mnist_data.test.images,y: mnist_data.test.labels})"
   ]
  },
  {
   "cell_type": "code",
   "execution_count": null,
   "metadata": {
    "collapsed": true
   },
   "outputs": [],
   "source": []
  }
 ],
 "metadata": {
  "kernelspec": {
   "display_name": "Python 2",
   "language": "python",
   "name": "python2"
  },
  "language_info": {
   "codemirror_mode": {
    "name": "ipython",
    "version": 2
   },
   "file_extension": ".py",
   "mimetype": "text/x-python",
   "name": "python",
   "nbconvert_exporter": "python",
   "pygments_lexer": "ipython2",
   "version": "2.7.11"
  }
 },
 "nbformat": 4,
 "nbformat_minor": 0
}
