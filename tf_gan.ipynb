{
 "cells": [
  {
   "cell_type": "code",
   "execution_count": 1,
   "metadata": {
    "collapsed": true
   },
   "outputs": [],
   "source": [
    "%matplotlib inline\n",
    "\n",
    "import numpy as np\n",
    "import tensorflow as tf\n",
    "import matplotlib.pyplot as plt"
   ]
  },
  {
   "cell_type": "code",
   "execution_count": 2,
   "metadata": {
    "collapsed": false
   },
   "outputs": [],
   "source": [
    "data_size = 1000\n",
    "input_size = 100\n",
    "r = 5\n",
    "gen_dataset = np.random.uniform(-r,r,size=(data_size,input_size))\n",
    "dis_dataset = np.random.normal(loc=0.0,scale=2.0,size=(data_size,input_size))\n",
    "\n",
    "gen_dataset.sort()\n",
    "gen_dataset = np.clip(gen_dataset,-r,r)\n",
    "dis_dataset.sort()\n",
    "dis_dataset = np.clip(dis_dataset,-r,r)"
   ]
  },
  {
   "cell_type": "code",
   "execution_count": 31,
   "metadata": {
    "collapsed": false
   },
   "outputs": [
    {
     "name": "stdout",
     "output_type": "stream",
     "text": [
      "1.13117 11.5129\n",
      "1.00136e-05 11.5129\n",
      "1.00136e-05 11.5129\n",
      "1.00136e-05 11.5129\n",
      "1.00136e-05 11.5129\n",
      "1.00136e-05 11.5129\n",
      "1.00136e-05 11.5129\n",
      "1.00136e-05 11.5129\n",
      "1.00136e-05 11.5129\n",
      "1.00136e-05 11.5129\n"
     ]
    },
    {
     "data": {
      "image/png": "[encoded data removed]",
      "text/plain": [
       "<matplotlib.figure.Figure at 0x110bf4150>"
      ]
     },
     "metadata": {},
     "output_type": "display_data"
    }
   ],
   "source": [
    "tf.reset_default_graph()\n",
    "\n",
    "def linear(x,out_dim,scope,reuse=False):\n",
    "    with tf.variable_scope(scope,reuse=reuse):\n",
    "        w = tf.get_variable(name='w',shape=(x.shape[1].value,out_dim),\n",
    "                        initializer=tf.random_normal_initializer(stddev=0.1))\n",
    "        b = tf.get_variable(name='b',shape=(1,out_dim),\n",
    "                        initializer=tf.random_normal_initializer(stddev=0.1))\n",
    "        o = tf.matmul(x,w) + b\n",
    "        return o\n",
    "    \n",
    "# generator model\n",
    "x = tf.placeholder(dtype=tf.float32,shape=[None,input_size])\n",
    "o = linear(x,100,'g0',False)\n",
    "\n",
    "# discriminator model\n",
    "d_h0 = tf.nn.relu(linear(o,20,'d0',False))\n",
    "d_h1 = tf.nn.sigmoid(linear(d_h0,1,'d1',False))\n",
    "\n",
    "d_x = tf.placeholder(dtype=tf.float32,shape=[None,input_size])\n",
    "d1_h0 = tf.nn.relu(linear(d_x,20,'d0',True))\n",
    "d1_h1 = tf.nn.sigmoid(linear(d1_h0,1,'d1',True))\n",
    "\n",
    "# loss\n",
    "dis_loss = tf.reduce_mean(-tf.log(tf.maximum(d1_h1, 1e-5))-tf.log(1-tf.maximum(d_h1, 1e-5)))\n",
    "gen_loss = tf.reduce_mean(-tf.log(tf.maximum(d_h1, 1e-5)))\n",
    "\n",
    "vv = tf.trainable_variables()\n",
    "g_p = [v for v in vv if v.name.startswith('g')]\n",
    "d_p = [v for v in vv if v.name.startswith('d')]\n",
    "\n",
    "g_opt = tf.train.AdamOptimizer(0.1).minimize(gen_loss,var_list=g_p)\n",
    "d_opt = tf.train.AdamOptimizer(0.1).minimize(dis_loss,var_list=d_p)\n",
    "\n",
    "init = tf.global_variables_initializer()\n",
    "with tf.Session() as sess:\n",
    "    sess.run(init)\n",
    "    for i in range(100):\n",
    "        _,d_l = sess.run([d_opt,dis_loss],{x:gen_dataset,d_x:dis_dataset})\n",
    "        _,g_l = sess.run([g_opt,gen_loss],{x:gen_dataset,d_x:dis_dataset})\n",
    "        if i % 10 == 0:\n",
    "            print d_l,g_l\n",
    "    r = sess.run(o,{x:gen_dataset})\n",
    "    plt.hist(r[0])"
   ]
  }
 ],
 "metadata": {
  "kernelspec": {
   "display_name": "Python 2",
   "language": "python",
   "name": "python2"
  },
  "language_info": {
   "codemirror_mode": {
    "name": "ipython",
    "version": 2
   },
   "file_extension": ".py",
   "mimetype": "text/x-python",
   "name": "python",
   "nbconvert_exporter": "python",
   "pygments_lexer": "ipython2",
   "version": "2.7.11"
  }
 },
 "nbformat": 4,
 "nbformat_minor": 2
}
