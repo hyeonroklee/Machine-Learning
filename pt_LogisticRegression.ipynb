{
 "cells": [
  {
   "cell_type": "code",
   "execution_count": 1,
   "metadata": {
    "collapsed": true
   },
   "outputs": [],
   "source": [
    "%matplotlib inline\n",
    "\n",
    "import numpy as np\n",
    "import torch\n",
    "import torch.nn as nn\n",
    "import torch.optim as opt\n",
    "from torch import Tensor\n",
    "from torch.autograd import Variable\n",
    "\n",
    "import matplotlib.pyplot as plt\n",
    "import gym"
   ]
  },
  {
   "cell_type": "code",
   "execution_count": 3,
   "metadata": {
    "collapsed": false
   },
   "outputs": [
    {
     "data": {
      "text/plain": [
       "[<matplotlib.lines.Line2D at 0x10a473d90>]"
      ]
     },
     "execution_count": 3,
     "metadata": {},
     "output_type": "execute_result"
    },
    {
     "data": {
      "image/png": "[encoded data removed]",
      "text/plain": [
       "<matplotlib.figure.Figure at 0x10a45bfd0>"
      ]
     },
     "metadata": {},
     "output_type": "display_data"
    }
   ],
   "source": [
    "c0_m = [1,1]\n",
    "c0_c = [[1,0],[0,1]]\n",
    "c0_s = 100\n",
    "\n",
    "c1_m = [3,3]\n",
    "c1_c = [[1,0],[0,1]]\n",
    "c1_s = 100\n",
    "\n",
    "c0 = np.random.multivariate_normal(c0_m,c0_c,c0_s)\n",
    "c1 = np.random.multivariate_normal(c1_m,c1_c,c1_s)\n",
    "c0 = np.hstack([c0,np.zeros(shape=(len(c0),1))])\n",
    "c1 = np.hstack([c1,np.ones(shape=(len(c1),1))])\n",
    "plt.plot(c0[:,0],c0[:,1],'r+')\n",
    "plt.plot(c1[:,0],c1[:,1],'b+')"
   ]
  },
  {
   "cell_type": "code",
   "execution_count": 4,
   "metadata": {
    "collapsed": true
   },
   "outputs": [],
   "source": [
    "dataset = np.vstack([c0,c1])\n",
    "np.random.shuffle(dataset)\n",
    "splite_size = int(len(dataset) * 0.7)\n",
    "training_set = dataset[:splite_size]\n",
    "test_set = dataset[splite_size:]"
   ]
  },
  {
   "cell_type": "code",
   "execution_count": 6,
   "metadata": {
    "collapsed": false
   },
   "outputs": [
    {
     "data": {
      "text/plain": [
       "[<matplotlib.lines.Line2D at 0x10a7dc190>]"
      ]
     },
     "execution_count": 6,
     "metadata": {},
     "output_type": "execute_result"
    },
    {
     "data": {
      "image/png": "[encoded data removed]",
      "text/plain": [
       "<matplotlib.figure.Figure at 0x10a473150>"
      ]
     },
     "metadata": {},
     "output_type": "display_data"
    }
   ],
   "source": [
    "w = Variable(Tensor(np.random.normal(size=(2,1))),requires_grad=True)\n",
    "b = Variable(Tensor([0]),requires_grad=True)\n",
    "o = opt.Adam([w,b],lr=0.005)\n",
    "\n",
    "costs = []\n",
    "epoch = 100\n",
    "batch_size = 50\n",
    "for i in range(epoch):\n",
    "    for i in range(len(training_set)/batch_size):\n",
    "        o.zero_grad()\n",
    "        d = training_set[i:i+batch_size]\n",
    "        x = Variable(Tensor(d[:,0:2]))\n",
    "        y = Variable(Tensor(d[:,2]))\n",
    "        net_input = x.mm(w)\n",
    "        net_input += b.unsqueeze(0).expand_as(net_input)\n",
    "        loss = torch.mean(torch.abs(y - torch.sigmoid(net_input)))\n",
    "        loss.backward()\n",
    "        costs.append(loss.data.numpy()[0])\n",
    "        o.step()\n",
    "        \n",
    "plt.plot(hist)"
   ]
  }
 ],
 "metadata": {
  "kernelspec": {
   "display_name": "Python 2",
   "language": "python",
   "name": "python2"
  },
  "language_info": {
   "codemirror_mode": {
    "name": "ipython",
    "version": 2
   },
   "file_extension": ".py",
   "mimetype": "text/x-python",
   "name": "python",
   "nbconvert_exporter": "python",
   "pygments_lexer": "ipython2",
   "version": "2.7.13"
  }
 },
 "nbformat": 4,
 "nbformat_minor": 2
}
