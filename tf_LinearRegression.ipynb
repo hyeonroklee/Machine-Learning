{
 "cells": [
  {
   "cell_type": "code",
   "execution_count": 1,
   "metadata": {
    "collapsed": true
   },
   "outputs": [],
   "source": [
    "%matplotlib inline\n",
    "\n",
    "import numpy as np\n",
    "import tensorflow as tf\n",
    "import matplotlib.pyplot as plt"
   ]
  },
  {
   "cell_type": "code",
   "execution_count": 2,
   "metadata": {
    "collapsed": true
   },
   "outputs": [],
   "source": [
    "############################\n",
    "# generate data\n",
    "############################\n",
    "data_size = 100\n",
    "_x = np.random.uniform(size=(data_size,1),low=0,high=10)\n",
    "_y = _x + np.random.normal(size=(data_size,1))\n",
    "\n",
    "split_rate = 0.7\n",
    "split_size = int(data_size*split_rate)\n",
    "train_x_dataset = _x[:split_size]\n",
    "train_y_dataset = _y[:split_size]\n",
    "test_x_dataset = _x[split_size:]\n",
    "test_y_dataset = _y[split_size:]"
   ]
  },
  {
   "cell_type": "code",
   "execution_count": 3,
   "metadata": {
    "collapsed": false
   },
   "outputs": [],
   "source": [
    "#############################\n",
    "# construct the model\n",
    "#############################\n",
    "lr = 0.05\n",
    "tf.reset_default_graph()\n",
    "x = tf.placeholder(tf.float32,[None,1])\n",
    "y = tf.placeholder(tf.float32,[None,1])\n",
    "w = tf.Variable(tf.zeros([1,1]))\n",
    "b = tf.Variable(tf.zeros([1,1]))\n",
    "y_hat = tf.matmul(x,w) + b\n",
    "\n",
    "cost = tf.reduce_mean(tf.square(y-y_hat))\n",
    "grad = tf.train.AdamOptimizer(lr).minimize(cost)"
   ]
  },
  {
   "cell_type": "code",
   "execution_count": 6,
   "metadata": {
    "collapsed": false
   },
   "outputs": [
    {
     "data": {
      "image/png": "[encoded data removed]",
      "text/plain": [
       "<matplotlib.figure.Figure at 0x10ec7bf10>"
      ]
     },
     "metadata": {},
     "output_type": "display_data"
    },
    {
     "data": {
      "image/png": "[encoded data removed]",
      "text/plain": [
       "<matplotlib.figure.Figure at 0x10f3c5ad0>"
      ]
     },
     "metadata": {},
     "output_type": "display_data"
    }
   ],
   "source": [
    "#############################\n",
    "# train & test the model\n",
    "#############################\n",
    "epoch = 30\n",
    "batch_size = 20\n",
    "init = tf.global_variables_initializer()\n",
    "train_cost = []\n",
    "test_cost = []\n",
    "with tf.Session() as sess:\n",
    "    sess.run(init)\n",
    "    for i in range(epoch):\n",
    "        for j in range(int(np.ceil(len(train_x_dataset)/float(batch_size)))):\n",
    "            g = sess.run(grad,{x:train_x_dataset[j:j+batch_size],y:train_y_dataset[j:j+batch_size]})\n",
    "        train_cost.append(sess.run(cost,{x:train_x_dataset,y:train_y_dataset}))\n",
    "        test_cost.append(sess.run(cost,{x:test_x_dataset,y:test_y_dataset}))\n",
    "    y_predicted = test_x_dataset * w.eval(sess) + b.eval(sess)\n",
    "              \n",
    "    ##### plot the model #####\n",
    "    plt.plot(train_cost,label='train')\n",
    "    plt.plot(test_cost,label='test')\n",
    "    plt.title('Cost Function')\n",
    "    plt.ylabel('cost')\n",
    "    plt.xlabel('epoch')\n",
    "    plt.legend()\n",
    "    plt.show()\n",
    "\n",
    "    plt.plot(test_x_dataset,test_y_dataset,'r+')\n",
    "    plt.plot(test_x_dataset,y_predicted)\n",
    "    plt.show()"
   ]
  },
  {
   "cell_type": "code",
   "execution_count": null,
   "metadata": {
    "collapsed": true
   },
   "outputs": [],
   "source": []
  }
 ],
 "metadata": {
  "kernelspec": {
   "display_name": "Python 2",
   "language": "python",
   "name": "python2"
  },
  "language_info": {
   "codemirror_mode": {
    "name": "ipython",
    "version": 2
   },
   "file_extension": ".py",
   "mimetype": "text/x-python",
   "name": "python",
   "nbconvert_exporter": "python",
   "pygments_lexer": "ipython2",
   "version": "2.7.11"
  }
 },
 "nbformat": 4,
 "nbformat_minor": 0
}
