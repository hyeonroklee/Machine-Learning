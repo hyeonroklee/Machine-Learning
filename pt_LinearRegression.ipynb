{
 "cells": [
  {
   "cell_type": "code",
   "execution_count": 1,
   "metadata": {
    "collapsed": true
   },
   "outputs": [],
   "source": [
    "%matplotlib inline\n",
    "\n",
    "import numpy as np\n",
    "import torch\n",
    "from torch import Tensor\n",
    "from torch.autograd import Variable\n",
    "import torch.optim as opt\n",
    "\n",
    "import matplotlib.pyplot as plt"
   ]
  },
  {
   "cell_type": "code",
   "execution_count": 2,
   "metadata": {
    "collapsed": false
   },
   "outputs": [],
   "source": [
    "############################\n",
    "# generate data\n",
    "############################\n",
    "data_size = 100\n",
    "split_rate = 0.7\n",
    "x_dataset = np.linspace(1,10,data_size)\n",
    "y_dataset = 3*x_dataset + 2 + np.random.randn(data_size)\n",
    "x_dataset = x_dataset.reshape(-1,1)\n",
    "y_dataset = y_dataset.reshape(-1,1)\n",
    "\n",
    "split_idx = int(len(x_dataset)*split_rate)\n",
    "train_x_dataset = x_dataset[:split_idx]\n",
    "train_y_dataset = y_dataset[:split_idx]\n",
    "test_x_dataset = x_dataset[split_idx:]\n",
    "test_y_dataset = y_dataset[split_idx:]"
   ]
  },
  {
   "cell_type": "code",
   "execution_count": 14,
   "metadata": {
    "collapsed": true
   },
   "outputs": [],
   "source": [
    "############################\n",
    "# construct the model\n",
    "############################\n",
    "class LinearRegression(object):\n",
    "    \n",
    "    def __init__(self,lr=0.05):\n",
    "        super(LinearRegression,self).__init__()\n",
    "        self._w = Variable(torch.randn(1,1),requires_grad=True)\n",
    "        self._b = b = Variable(torch.zeros(1),requires_grad=True)\n",
    "        self._opt = opt.Adam([self._w,self._b],lr)\n",
    "        self._train_costs = []\n",
    "        \n",
    "    def train(self,x_dataset,y_dataset,epoch=100,batch_size=10):\n",
    "        self._train_costs  = []\n",
    "        for i in range(epoch):\n",
    "            for j in range(int(np.ceil(len(x_dataset)/float(batch_size)))):\n",
    "                self._opt.zero_grad()\n",
    "                x = Variable(Tensor(x_dataset[j:j+batch_size]))\n",
    "                y = Variable(Tensor(y_dataset[j:j+batch_size]))\n",
    "                out = x.mm(self._w)\n",
    "                out += self._b.unsqueeze(0).expand_as(out)\n",
    "                cost = (out - y).pow(2).mean()\n",
    "                cost.backward()\n",
    "                self._opt.step()\n",
    "                self._train_costs.append(cost.data.numpy()[0])\n",
    "        return self._train_costs\n",
    "    \n",
    "    def test(self,x_dataset,y_dataset):\n",
    "        x = Variable(Tensor(x_dataset))\n",
    "        y = Variable(Tensor(y_dataset))\n",
    "        out = x.mm(self._w)\n",
    "        out += self._b.unsqueeze(0).expand_as(out)\n",
    "        cost = (out - y).pow(2).mean()\n",
    "        return cost"
   ]
  },
  {
   "cell_type": "code",
   "execution_count": 16,
   "metadata": {
    "collapsed": false
   },
   "outputs": [
    {
     "name": "stdout",
     "output_type": "stream",
     "text": [
      "Variable containing:\n",
      " 9.6262\n",
      "[torch.FloatTensor of size 1]\n",
      "\n"
     ]
    },
    {
     "data": {
      "text/plain": [
       "[<matplotlib.lines.Line2D at 0x136eaac10>]"
      ]
     },
     "execution_count": 16,
     "metadata": {},
     "output_type": "execute_result"
    },
    {
     "data": {
      "image/png": "[encoded data removed]",
      "text/plain": [
       "<matplotlib.figure.Figure at 0x136f2b250>"
      ]
     },
     "metadata": {},
     "output_type": "display_data"
    }
   ],
   "source": [
    "reg = LinearRegression(lr=0.01)\n",
    "costs = reg.train(train_x_dataset,train_y_dataset)\n",
    "print reg.test(test_x_dataset,test_y_dataset)\n",
    "plt.plot(costs)"
   ]
  },
  {
   "cell_type": "code",
   "execution_count": null,
   "metadata": {
    "collapsed": true
   },
   "outputs": [],
   "source": []
  }
 ],
 "metadata": {
  "kernelspec": {
   "display_name": "Python 2",
   "language": "python",
   "name": "python2"
  },
  "language_info": {
   "codemirror_mode": {
    "name": "ipython",
    "version": 2
   },
   "file_extension": ".py",
   "mimetype": "text/x-python",
   "name": "python",
   "nbconvert_exporter": "python",
   "pygments_lexer": "ipython2",
   "version": "2.7.13"
  }
 },
 "nbformat": 4,
 "nbformat_minor": 0
}
