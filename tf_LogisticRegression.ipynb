{
 "cells": [
  {
   "cell_type": "code",
   "execution_count": 8,
   "metadata": {
    "collapsed": true
   },
   "outputs": [],
   "source": [
    "%matplotlib inline\n",
    "\n",
    "import numpy as np\n",
    "import tensorflow as tf\n",
    "import matplotlib.pyplot as plt"
   ]
  },
  {
   "cell_type": "code",
   "execution_count": 9,
   "metadata": {
    "collapsed": false
   },
   "outputs": [],
   "source": [
    "############################\n",
    "# generate data\n",
    "############################\n",
    "data_size = 100\n",
    "x_a = np.random.multivariate_normal([1,1],[[1,0],[0,1]],size=data_size)\n",
    "y_a = np.zeros([data_size,1],dtype=np.int)\n",
    "x_b = np.random.multivariate_normal([3,3],[[1,0],[0,1]],size=data_size)\n",
    "y_b = np.ones([data_size,1],dtype=np.int)\n",
    "\n",
    "_x = np.append(x_a,x_b,axis=0)\n",
    "_y = np.append(y_a,y_b,axis=0)\n",
    "\n",
    "i = range(data_size*2)\n",
    "np.random.shuffle(i)\n",
    "_x = np.array([_x[j] for j in i])\n",
    "_y = np.array([_y[j] for j in i])\n",
    "\n",
    "split_rate = 0.7\n",
    "split_size = int(data_size*2*split_rate)\n",
    "train_x_dataset = _x[:split_size]\n",
    "train_y_dataset = _y[:split_size]\n",
    "test_x_dataset = _x[split_size:]\n",
    "test_y_dataset = _y[split_size:]"
   ]
  },
  {
   "cell_type": "code",
   "execution_count": 10,
   "metadata": {
    "collapsed": true
   },
   "outputs": [],
   "source": [
    "#############################\n",
    "# construct the model\n",
    "#############################\n",
    "learning_rate = 0.5\n",
    "x = tf.placeholder(tf.float32,[None,2],name='x')\n",
    "y = tf.placeholder(tf.float32,[None,1],name='y')\n",
    "w = tf.Variable(np.zeros([2,1]),name='w',dtype=tf.float32)\n",
    "b = tf.Variable(np.zeros([1,1]),name='b',dtype=tf.float32)\n",
    "y_hat = tf.sigmoid(tf.matmul(x,w) + b)\n",
    "cost = tf.reduce_mean(tf.square(y - y_hat))\n",
    "grad = tf.train.AdamOptimizer(learning_rate).minimize(cost)\n",
    "acc = tf.reduce_mean(tf.cast(tf.equal(tf.cast(y_hat >= 0.5,dtype=tf.float32),y),dtype=tf.float32))"
   ]
  },
  {
   "cell_type": "code",
   "execution_count": 11,
   "metadata": {
    "collapsed": false
   },
   "outputs": [
    {
     "name": "stdout",
     "output_type": "stream",
     "text": [
      "final accuracy :  0.866667\n"
     ]
    },
    {
     "data": {
      "image/png": "[encoded data removed]",
      "text/plain": [
       "<matplotlib.figure.Figure at 0x10ee7fcd0>"
      ]
     },
     "metadata": {},
     "output_type": "display_data"
    }
   ],
   "source": [
    "#############################\n",
    "# train & test the model\n",
    "#############################\n",
    "epoch = 1000\n",
    "init = tf.global_variables_initializer()\n",
    "with tf.Session() as sess:\n",
    "    sess.run(init)\n",
    "    for i in range(epoch):\n",
    "        c,g = sess.run([cost,grad],feed_dict={x:train_x_dataset,y:train_y_dataset})\n",
    "        if c < 0.1:\n",
    "            print 'final accuracy : ',sess.run(acc,feed_dict={x:test_x_dataset,y:test_y_dataset})\n",
    "            break \n",
    "            \n",
    "    ##### plot the model #####\n",
    "    __w = w.eval(sess)\n",
    "    __b = b.eval(sess)\n",
    "    __x = np.linspace(-2,6,num=10)\n",
    "    __y = (-__b[0,0] - __x * __w[0,0]) / __w[1,0]\n",
    "    plt.plot(x_a[:,0],x_a[:,1],'r+')\n",
    "    plt.plot(x_b[:,0],x_b[:,1],'b+')\n",
    "    plt.plot(__x,__y)"
   ]
  },
  {
   "cell_type": "code",
   "execution_count": null,
   "metadata": {
    "collapsed": true
   },
   "outputs": [],
   "source": []
  }
 ],
 "metadata": {
  "kernelspec": {
   "display_name": "Python 2",
   "language": "python",
   "name": "python2"
  },
  "language_info": {
   "codemirror_mode": {
    "name": "ipython",
    "version": 2
   },
   "file_extension": ".py",
   "mimetype": "text/x-python",
   "name": "python",
   "nbconvert_exporter": "python",
   "pygments_lexer": "ipython2",
   "version": "2.7.11"
  }
 },
 "nbformat": 4,
 "nbformat_minor": 0
}
