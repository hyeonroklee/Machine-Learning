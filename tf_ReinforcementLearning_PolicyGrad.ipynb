{
 "cells": [
  {
   "cell_type": "code",
   "execution_count": 1,
   "metadata": {
    "collapsed": true
   },
   "outputs": [],
   "source": [
    "%matplotlib inline\n",
    "\n",
    "import numpy as np\n",
    "import torch\n",
    "from torch import Tensor\n",
    "from torch.autograd import Variable\n",
    "import torch.optim as opt\n",
    "import tensorflow as tf\n",
    "import gym\n",
    "\n",
    "import matplotlib.pyplot as plt"
   ]
  },
  {
   "cell_type": "code",
   "execution_count": 2,
   "metadata": {
    "collapsed": false
   },
   "outputs": [
    {
     "name": "stderr",
     "output_type": "stream",
     "text": [
      "[2017-07-28 10:36:03,469] Making new env: CartPole-v0\n"
     ]
    }
   ],
   "source": [
    "env = gym.make('CartPole-v0')"
   ]
  },
  {
   "cell_type": "code",
   "execution_count": 3,
   "metadata": {
    "collapsed": false
   },
   "outputs": [],
   "source": [
    "gamma = 0.99\n",
    "lr = 0.05\n",
    "hidden = 8\n",
    "num_action = env.action_space.n\n",
    "num_state = env.observation_space.shape[0]"
   ]
  },
  {
   "cell_type": "code",
   "execution_count": 4,
   "metadata": {
    "collapsed": true
   },
   "outputs": [],
   "source": [
    "def discount_rewards(r):\n",
    "    discounted_r = np.zeros_like(r)\n",
    "    running_add = 0\n",
    "    for t in reversed(xrange(0, r.size)):\n",
    "        running_add = running_add * gamma + r[t]\n",
    "        discounted_r[t] = running_add\n",
    "    return discounted_r"
   ]
  },
  {
   "cell_type": "code",
   "execution_count": 43,
   "metadata": {
    "collapsed": false
   },
   "outputs": [],
   "source": [
    "tf.reset_default_graph()\n",
    "\n",
    "x = tf.placeholder(dtype=tf.float32,shape=[None,num_state])\n",
    "w1 = tf.Variable(np.random.randn(num_state,hidden),name='w1',dtype=tf.float32)\n",
    "b1 = tf.Variable(np.random.randn(1,hidden),name='b1',dtype=tf.float32)\n",
    "layer1 = tf.nn.relu(tf.matmul(x,w1) + b1)\n",
    "w2 = tf.Variable(np.random.randn(hidden,num_action),name='w2',dtype=tf.float32)\n",
    "b2 = tf.Variable(np.random.randn(1,num_action),name='b2',dtype=tf.float32)\n",
    "layer2 = tf.nn.sigmoid(tf.matmul(layer1,w2) + b2)\n",
    "output = tf.nn.softmax(layer2)\n",
    "\n",
    "chosen_action = tf.argmax(output,axis=1)\n",
    "\n",
    "action_holder = tf.placeholder(tf.float32,[None,num_action])\n",
    "reward_holder = tf.placeholder(tf.float32,[None])\n",
    "\n",
    "cost = -tf.reduce_mean(tf.log(tf.reduce_sum(output * action_holder,axis=1)) * \n",
    "                      reward_holder)\n",
    "\n",
    "gradient_holders = []\n",
    "tvars = tf.trainable_variables()\n",
    "for idx,var in enumerate(tvars):\n",
    "    ph = tf.placeholder(tf.float32,name=str(idx)+'_holder')\n",
    "    gradient_holders.append(ph)\n",
    "    \n",
    "grad = tf.gradients(cost,tvars)\n",
    "opt = tf.train.AdamOptimizer(lr)\n",
    "update = opt.apply_gradients(zip(gradient_holders,tvars))"
   ]
  },
  {
   "cell_type": "code",
   "execution_count": 14,
   "metadata": {
    "collapsed": false
   },
   "outputs": [
    {
     "name": "stdout",
     "output_type": "stream",
     "text": [
      "14.0\n",
      "11.0\n",
      "10.0\n",
      "12.0\n",
      "9.0\n",
      "10.0\n",
      "10.0\n",
      "10.0\n",
      "10.0\n",
      "11.0\n"
     ]
    }
   ],
   "source": [
    "e = 0.1\n",
    "epoch = 10000\n",
    "init = tf.global_variables_initializer()\n",
    "amap = np.identity(num_action)\n",
    "\n",
    "with tf.Session() as sess:\n",
    "    sess.run(init)\n",
    "    \n",
    "    gradient_buffer = sess.run(tf.trainable_variables())\n",
    "    for ix,gd in enumerate(gradient_buffer):\n",
    "        gradient_buffer[ix] = grad * 0\n",
    "    \n",
    "    for i in range(epoch):\n",
    "        s = env.reset()\n",
    "        done = False\n",
    "        total_reward = 0\n",
    "        s_hist = []\n",
    "        a_hist = []\n",
    "        r_hist = []\n",
    "        while not done:\n",
    "            a = sess.run(chosen_action,{x:np.array([s])})\n",
    "            if np.random.rand() < e:\n",
    "                a[0] = env.action_space.sample()\n",
    "            s1,r,done,_ = env.step(a[0])\n",
    "            s_hist.append(s)\n",
    "            a_hist.append(amap[a[0]:a[0]+1][0])\n",
    "            r_hist.append(r)\n",
    "            total_reward += r\n",
    "            if done:\n",
    "                s_h = np.array(s_hist,dtype=np.float32)\n",
    "                a_h = np.array(a_hist,dtype=np.float32)\n",
    "                r_h = discount_rewards(np.array(r_hist,dtype=np.float32))\n",
    "                c,g = sess.run([cost,grad],{x:s_h,action_holder:a_h,reward_holder:r_h})\n",
    "\n",
    "                for ix,gd in enumerate(g):\n",
    "                    gradient_buffer[ix] += gd\n",
    "                    \n",
    "                if i % 1000 == 0:\n",
    "                    sess.run(update,feed_dict=dict(zip(gradient_holders, gradient_buffer)))\n",
    "                    for ix,gd in enumerate(g):\n",
    "                        gradient_buffer[ix] = 0\n",
    "                    print total_reward\n",
    "            s = s1"
   ]
  },
  {
   "cell_type": "code",
   "execution_count": 47,
   "metadata": {
    "collapsed": false
   },
   "outputs": [
    {
     "name": "stdout",
     "output_type": "stream",
     "text": [
      "14.0\n",
      "82.0\n",
      "32.0\n",
      "35.0\n",
      "45.0\n",
      "139.0\n",
      "61.0\n",
      "108.0\n",
      "101.0\n",
      "65.0\n",
      "135.0\n",
      "181.0\n",
      "94.0\n",
      "77.0\n",
      "177.0\n",
      "65.0\n",
      "19.0\n",
      "200.0\n",
      "57.0\n",
      "26.0\n",
      "75.0\n",
      "143.0\n",
      "13.0\n",
      "45.0\n",
      "157.0\n",
      "200.0\n",
      "137.0\n",
      "70.0\n",
      "29.0\n",
      "47.0\n",
      "169.0\n",
      "91.0\n",
      "108.0\n",
      "89.0\n",
      "18.0\n",
      "32.0\n",
      "24.0\n",
      "145.0\n",
      "187.0\n",
      "200.0\n",
      "70.0\n",
      "115.0\n",
      "200.0\n",
      "16.0\n",
      "200.0\n",
      "116.0\n",
      "90.0\n",
      "119.0\n",
      "105.0\n",
      "22.0\n"
     ]
    }
   ],
   "source": [
    "total_episodes = 5000\n",
    "max_ep = 999\n",
    "update_frequency = 5\n",
    "init = tf.global_variables_initializer()\n",
    "amap = np.identity(num_action)\n",
    "\n",
    "with tf.Session() as sess:\n",
    "    sess.run(init)\n",
    "    i = 0\n",
    "    total_reward = []\n",
    "    total_lenght = []\n",
    "        \n",
    "    gradBuffer = sess.run(tf.trainable_variables())\n",
    "    for ix,gd in enumerate(gradBuffer):\n",
    "        gradBuffer[ix] = gd * 0\n",
    "        \n",
    "    while i < total_episodes:\n",
    "        s = env.reset()\n",
    "        running_reward = 0\n",
    "        ep_history = []\n",
    "        s_history = []\n",
    "        a_history = []\n",
    "        r_history = []\n",
    "        for j in range(max_ep):\n",
    "            #Probabilistically pick an action given our network outputs.\n",
    "            a_dist = sess.run(output,feed_dict={x:[s]})\n",
    "            a = np.random.choice(a_dist[0],p=a_dist[0])\n",
    "            a = np.argmax(a_dist == a)\n",
    "\n",
    "            s1,r,d,_ = env.step(a) #Get our reward for taking an action given a bandit.\n",
    "            ep_history.append([s,amap[a:a+1][0],r,s1])\n",
    "            s_history.append(s)\n",
    "            a_history.append(amap[a:a+1][0])\n",
    "            r_history.append(r)\n",
    "            s = s1\n",
    "            running_reward += r\n",
    "            if d == True:\n",
    "                #Update the network.\n",
    "                ep_history = np.array(ep_history)\n",
    "                s_history = np.array(s_history,dtype=np.float32)\n",
    "                a_history = np.array(a_history,dtype=np.float32)\n",
    "                r_history = np.array(r_history,dtype=np.float32)\n",
    "                r_history = discount_rewards(r_history)\n",
    "                \n",
    "                feed_dict={reward_holder:r_history,\n",
    "                        action_holder:a_history,x:s_history}\n",
    "                grads = sess.run(grad, feed_dict=feed_dict)\n",
    "                for idx,gd in enumerate(grads):\n",
    "                    gradBuffer[idx] += gd\n",
    "\n",
    "                if i % update_frequency == 0 and i != 0:\n",
    "                    feed_dict= dictionary = dict(zip(gradient_holders, gradBuffer))\n",
    "                    _ = sess.run(update, feed_dict=feed_dict)\n",
    "                    for ix,gd in enumerate(gradBuffer):\n",
    "                        gradBuffer[ix] = gd * 0\n",
    "                \n",
    "                total_reward.append(running_reward)\n",
    "                total_lenght.append(j)\n",
    "                break\n",
    "\n",
    "        \n",
    "        #Update our running tally of scores.\n",
    "#         if i % 100 == 0:\n",
    "#             print running_reward\n",
    "#             print(np.mean(total_reward[-100:]))\n",
    "        i += 1"
   ]
  },
  {
   "cell_type": "code",
   "execution_count": 51,
   "metadata": {
    "collapsed": false
   },
   "outputs": [
    {
     "data": {
      "text/plain": [
       "[<matplotlib.lines.Line2D at 0x12316db90>]"
      ]
     },
     "execution_count": 51,
     "metadata": {},
     "output_type": "execute_result"
    },
    {
     "data": {
      "image/png": "[encoded data removed]",
      "text/plain": [
       "<matplotlib.figure.Figure at 0x12308a910>"
      ]
     },
     "metadata": {},
     "output_type": "display_data"
    }
   ],
   "source": [
    "plt.plot(total_reward)"
   ]
  },
  {
   "cell_type": "code",
   "execution_count": null,
   "metadata": {
    "collapsed": true
   },
   "outputs": [],
   "source": []
  }
 ],
 "metadata": {
  "kernelspec": {
   "display_name": "Python 2",
   "language": "python",
   "name": "python2"
  },
  "language_info": {
   "codemirror_mode": {
    "name": "ipython",
    "version": 2
   },
   "file_extension": ".py",
   "mimetype": "text/x-python",
   "name": "python",
   "nbconvert_exporter": "python",
   "pygments_lexer": "ipython2",
   "version": "2.7.13"
  }
 },
 "nbformat": 4,
 "nbformat_minor": 2
}
